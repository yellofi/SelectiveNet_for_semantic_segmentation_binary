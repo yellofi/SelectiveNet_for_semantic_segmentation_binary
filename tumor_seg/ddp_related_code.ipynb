{
 "cells": [
  {
   "cell_type": "code",
   "execution_count": 1,
   "metadata": {},
   "outputs": [],
   "source": [
    "import torch"
   ]
  },
  {
   "cell_type": "code",
   "execution_count": 2,
   "metadata": {},
   "outputs": [
    {
     "data": {
      "text/plain": [
       "8"
      ]
     },
     "execution_count": 2,
     "metadata": {},
     "output_type": "execute_result"
    }
   ],
   "source": [
    "torch.cuda.device_count()"
   ]
  },
  {
   "cell_type": "code",
   "execution_count": null,
   "metadata": {},
   "outputs": [],
   "source": []
  },
  {
   "cell_type": "code",
   "execution_count": null,
   "metadata": {},
   "outputs": [],
   "source": [
    "# 어떤 데이터들을 어떤 지피유에 올릴지 선택해줘야 하기 때문에 Distributed Sampler를 적용해준다 \n",
    "    train_sampler = torch.utils.data.distributed.DistributedSampler(train_set,\n",
    "                        rank=rank, num_replicas=args.world_size, shuffle=True)\n",
    "\n",
    "    valid_sampler = torch.utils.data.distributed.DistributedSampler(valid_set,\n",
    "                        rank=rank, num_replicas=args.world_size, shuffle=True)\n",
    "    \n",
    "    # 모든 지피유들이 동일한 메모리를 사용하게 하고 싶다면 pin memory = True 로.. \n",
    "    train_loader = data.DataLoader(train_set, batch_size=int(args.batch_size),\n",
    "                                    num_workers=args.num_workers, shuffle=False,\n",
    "                                    pin_memory=True  , sampler=train_sampler)\n",
    "\n",
    "    valid_loader = data.DataLoader(valid_set, batch_size=int(args.batch_size),\n",
    "                                    num_workers=args.num_workers, shuffle=False,\n",
    "                                    pin_memory=True  , sampler=valid_samplerse,)"
   ]
  },
  {
   "cell_type": "code",
   "execution_count": null,
   "metadata": {},
   "outputs": [],
   "source": [
    "    # loss\n",
    "    # Custom loss \n",
    "    #criterion_bce = nn.BCEWithLogitsLoss(pos_weight=torch.Tensor([1])).cuda(rank)\n",
    "    criterion_reject = reject_loss.RejectLoss().cuda(rank)\n",
    "\n",
    "    # optim\n",
    "    optimizer = select_optimizer(args.optim_function, args.initial_lr, net)\n",
    "\n",
    "    net = net.cuda(rank)\n",
    "    net = torch.nn.SyncBatchNorm.convert_sync_batchnorm(net)\n",
    "    net = DDP(net, device_ids=[rank])"
   ]
  },
  {
   "cell_type": "code",
   "execution_count": null,
   "metadata": {},
   "outputs": [
    {
     "data": {
      "text/plain": [
       "'01000'"
      ]
     },
     "metadata": {},
     "output_type": "display_data"
    }
   ],
   "source": [
    "def run_model(model, world_size) :\n",
    "    print(args.work_dir, args.exp)\n",
    "    work_dir = os.path.join(args.work_dir, str(args.exp))\n",
    "\n",
    "    if not os.path.exists(work_dir):\n",
    "        os.makedirs(work_dir)\n",
    "\n",
    "\n",
    "    shutil.copy(__file__, os.path.join(work_dir, 'main.py'))\n",
    "    \n",
    "    mp.spawn(main,\n",
    "            args=(world_size,),\n",
    "            nprocs=world_size,\n",
    "            join=True)\n",
    "\n",
    "def reduce_tensor(tensor, world_size):\n",
    "    rt = tensor.clone()\n",
    "    dist.all_reduce(rt, op=dist.ReduceOp.SUM)\n",
    "    rt /= world_size\n",
    "    return rt\n",
    "\n",
    "def init_process(rank, world_size, backend='nccl', ip=1):\n",
    "    if ip == 1 :\n",
    "        os.environ['MASTER_ADDR'] = '127.0.0.1'\n",
    "        os.environ['MASTER_PORT'] = '8888'\n",
    "    elif ip == 0 : \n",
    "        os.environ['MASTER_ADDR'] = '127.0.0.1'\n",
    "        os.environ['MASTER_PORT'] = '9999'\n",
    "    dist.init_process_group(backend, rank=rank, world_size=world_size)\n"
   ]
  }
 ],
 "metadata": {
  "interpreter": {
   "hash": "31f2aee4e71d21fbe5cf8b01ff0e069b9275f58929596ceb00d14d90e3e16cd6"
  },
  "kernelspec": {
   "display_name": "Python 3.8.10 64-bit",
   "language": "python",
   "name": "python3"
  },
  "language_info": {
   "codemirror_mode": {
    "name": "ipython",
    "version": 3
   },
   "file_extension": ".py",
   "mimetype": "text/x-python",
   "name": "python",
   "nbconvert_exporter": "python",
   "pygments_lexer": "ipython3",
   "version": "3.8.0"
  },
  "orig_nbformat": 4
 },
 "nbformat": 4,
 "nbformat_minor": 2
}
