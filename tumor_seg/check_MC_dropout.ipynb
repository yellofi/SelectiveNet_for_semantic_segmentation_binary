{
 "cells": [
  {
   "cell_type": "code",
   "execution_count": 33,
   "metadata": {},
   "outputs": [],
   "source": [
    "import numpy as np\n",
    "\n",
    "N_iter = 100\n",
    "\n",
    "rep = []\n",
    "for _ in range(N_iter):\n",
    "    rep.append(np.clip(0.2*np.random.randn(10, 2) + 0.5, 0, 1))"
   ]
  },
  {
   "cell_type": "code",
   "execution_count": 34,
   "metadata": {},
   "outputs": [
    {
     "data": {
      "text/plain": [
       "(100, 10, 2)"
      ]
     },
     "execution_count": 34,
     "metadata": {},
     "output_type": "execute_result"
    }
   ],
   "source": [
    "rep = np.array(rep)\n",
    "\n",
    "rep.shape"
   ]
  },
  {
   "cell_type": "code",
   "execution_count": 36,
   "metadata": {},
   "outputs": [
    {
     "data": {
      "text/plain": [
       "array([[0.03262651, 0.0320552 ],\n",
       "       [0.04794711, 0.04609684],\n",
       "       [0.03831591, 0.03248042],\n",
       "       [0.03866253, 0.03176553],\n",
       "       [0.03601283, 0.03938121],\n",
       "       [0.04351767, 0.03849988],\n",
       "       [0.02946345, 0.04277731],\n",
       "       [0.04281059, 0.03218806],\n",
       "       [0.04950562, 0.04877283],\n",
       "       [0.03400517, 0.03800866]])"
      ]
     },
     "execution_count": 36,
     "metadata": {},
     "output_type": "execute_result"
    }
   ],
   "source": [
    "np.var(rep, axis=0)"
   ]
  },
  {
   "cell_type": "code",
   "execution_count": 37,
   "metadata": {},
   "outputs": [
    {
     "data": {
      "text/plain": [
       "(10, 2)"
      ]
     },
     "execution_count": 37,
     "metadata": {},
     "output_type": "execute_result"
    }
   ],
   "source": [
    "np.var(rep, axis=0).shape"
   ]
  },
  {
   "cell_type": "code",
   "execution_count": 38,
   "metadata": {},
   "outputs": [
    {
     "data": {
      "text/plain": [
       "array([-0.03234085, -0.04702198, -0.03539817, -0.03521403, -0.03769702,\n",
       "       -0.04100877, -0.03612038, -0.03749932, -0.04913922, -0.03600691])"
      ]
     },
     "execution_count": 38,
     "metadata": {},
     "output_type": "execute_result"
    }
   ],
   "source": [
    "mc = np.var(rep, axis=0)\n",
    "mc = np.mean(mc, -1)\n",
    "-mc"
   ]
  }
 ],
 "metadata": {
  "interpreter": {
   "hash": "31f2aee4e71d21fbe5cf8b01ff0e069b9275f58929596ceb00d14d90e3e16cd6"
  },
  "kernelspec": {
   "display_name": "Python 3.8.10 64-bit",
   "language": "python",
   "name": "python3"
  },
  "language_info": {
   "codemirror_mode": {
    "name": "ipython",
    "version": 3
   },
   "file_extension": ".py",
   "mimetype": "text/x-python",
   "name": "python",
   "nbconvert_exporter": "python",
   "pygments_lexer": "ipython3",
   "version": "3.8.10"
  },
  "orig_nbformat": 4
 },
 "nbformat": 4,
 "nbformat_minor": 2
}
