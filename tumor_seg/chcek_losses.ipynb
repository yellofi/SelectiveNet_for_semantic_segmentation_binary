{
 "cells": [
  {
   "cell_type": "code",
   "execution_count": 2,
   "metadata": {},
   "outputs": [],
   "source": [
    "import torch\n",
    "import numpy as np"
   ]
  },
  {
   "cell_type": "code",
   "execution_count": 31,
   "metadata": {},
   "outputs": [
    {
     "name": "stdout",
     "output_type": "stream",
     "text": [
      "torch.Size([1, 3, 3]) torch.Size([1, 2, 3, 3])\n"
     ]
    }
   ],
   "source": [
    "target = np.array([[[1, 0, 1], [1, 1, 1], [0, 0, 1]]])\n",
    "target = torch.from_numpy(target).type(torch.float32)\n",
    "\n",
    "output = torch.tensor([[[[0, 1, 0], [0, 0, 1], [1, 1, 1]], [[1, 0, 1], [1, 1, 0], [0, 0, 0]]]], dtype = torch.float32)\n",
    "\n",
    "print(target.size(), output.size())"
   ]
  },
  {
   "cell_type": "markdown",
   "metadata": {},
   "source": [
    "# 1. Pixel-level Classification"
   ]
  },
  {
   "cell_type": "markdown",
   "metadata": {},
   "source": [
    "## BCEwithLogitLoss\n",
    "- sigmoid + BCE"
   ]
  },
  {
   "cell_type": "code",
   "execution_count": 33,
   "metadata": {},
   "outputs": [
    {
     "data": {
      "text/plain": [
       "tensor(0.5243)"
      ]
     },
     "execution_count": 33,
     "metadata": {},
     "output_type": "execute_result"
    }
   ],
   "source": [
    "criterion = torch.nn.BCEWithLogitsLoss()\n",
    "criterion(output[:, 1, :, :], target)  "
   ]
  },
  {
   "cell_type": "code",
   "execution_count": 37,
   "metadata": {},
   "outputs": [
    {
     "name": "stdout",
     "output_type": "stream",
     "text": [
      "tensor([[[0.7311, 0.5000, 0.7311],\n",
      "         [0.7311, 0.7311, 0.5000],\n",
      "         [0.5000, 0.5000, 0.5000]]])\n",
      "tensor([[[1., 0., 1.],\n",
      "         [1., 1., 1.],\n",
      "         [0., 0., 1.]]])\n",
      "tensor([[[0.3133, 0.6931, 0.3133],\n",
      "         [0.3133, 0.3133, 0.6931],\n",
      "         [0.6931, 0.6931, 0.6931]]])\n",
      "tensor(0.5243)\n"
     ]
    }
   ],
   "source": [
    "sigma = torch.sigmoid(output[:, 1, :, :])\n",
    "y = target\n",
    "\n",
    "print(sigma)\n",
    "print(y)\n",
    "\n",
    "l_n = -(y*torch.log(sigma) + (1-y)*torch.log(1-sigma))\n",
    "print(l_n)\n",
    "\n",
    "l = torch.mean(l_n)\n",
    "print(l)"
   ]
  },
  {
   "cell_type": "code",
   "execution_count": 4,
   "metadata": {},
   "outputs": [
    {
     "data": {
      "text/plain": [
       "tensor([0.6225])"
      ]
     },
     "execution_count": 4,
     "metadata": {},
     "output_type": "execute_result"
    }
   ],
   "source": [
    "torch.sigmoid(torch.tensor([0.5]))"
   ]
  },
  {
   "cell_type": "code",
   "execution_count": 6,
   "metadata": {},
   "outputs": [
    {
     "data": {
      "text/plain": [
       "0.6224593312018546"
      ]
     },
     "execution_count": 6,
     "metadata": {},
     "output_type": "execute_result"
    }
   ],
   "source": [
    "fn_sigmoid = lambda x: 1/(1+np.exp(-x))\n",
    "fn_sigmoid(0.5)"
   ]
  },
  {
   "cell_type": "markdown",
   "metadata": {},
   "source": [
    "## CrossEntropyLoss"
   ]
  },
  {
   "cell_type": "code",
   "execution_count": 23,
   "metadata": {},
   "outputs": [
    {
     "data": {
      "text/plain": [
       "tensor(0.5355)"
      ]
     },
     "execution_count": 23,
     "metadata": {},
     "output_type": "execute_result"
    }
   ],
   "source": [
    "criterion = torch.nn.CrossEntropyLoss()\n",
    "criterion(output, target.type(torch.LongTensor))"
   ]
  },
  {
   "cell_type": "code",
   "execution_count": 38,
   "metadata": {},
   "outputs": [
    {
     "data": {
      "text/plain": [
       "tensor([[[False,  True, False],\n",
       "         [False, False, False],\n",
       "         [ True,  True, False]]])"
      ]
     },
     "execution_count": 38,
     "metadata": {},
     "output_type": "execute_result"
    }
   ],
   "source": [
    "target == 0"
   ]
  },
  {
   "cell_type": "code",
   "execution_count": 39,
   "metadata": {},
   "outputs": [
    {
     "name": "stdout",
     "output_type": "stream",
     "text": [
      "tensor([[[[0.2689, 0.7311, 0.2689],\n",
      "          [0.2689, 0.2689, 0.7311],\n",
      "          [0.7311, 0.7311, 0.7311]],\n",
      "\n",
      "         [[0.7311, 0.2689, 0.7311],\n",
      "          [0.7311, 0.7311, 0.2689],\n",
      "          [0.2689, 0.2689, 0.2689]]]])\n",
      "tensor([[[1, 0, 1],\n",
      "         [1, 1, 1],\n",
      "         [0, 0, 1]]])\n",
      "tensor([[[0.3133, 0.3133, 0.3133],\n",
      "         [0.3133, 0.3133, 1.3133],\n",
      "         [0.3133, 0.3133, 1.3133]]])\n",
      "tensor(0.5355)\n"
     ]
    }
   ],
   "source": [
    "softmax = torch.softmax(output, dim = 1)\n",
    "y = target.type(torch.LongTensor) \n",
    "\n",
    "print(softmax)\n",
    "print(y)\n",
    "\n",
    "l_n  = -(torch.log(softmax[:, 0, :, :])*(y == 0) + torch.log(softmax[:, 1, :, :])*(y == 1))\n",
    "print(l_n)\n",
    "\n",
    "l = torch.mean(l_n)\n",
    "print(l)"
   ]
  },
  {
   "cell_type": "code",
   "execution_count": 41,
   "metadata": {},
   "outputs": [
    {
     "name": "stdout",
     "output_type": "stream",
     "text": [
      "tensor([[[[-1.3133, -0.3133, -1.3133],\n",
      "          [-1.3133, -1.3133, -0.3133],\n",
      "          [-0.3133, -0.3133, -0.3133]],\n",
      "\n",
      "         [[-0.3133, -1.3133, -0.3133],\n",
      "          [-0.3133, -0.3133, -1.3133],\n",
      "          [-1.3133, -1.3133, -1.3133]]]])\n",
      "tensor([[[1, 0, 1],\n",
      "         [1, 1, 1],\n",
      "         [0, 0, 1]]])\n",
      "tensor([[[0.3133, 0.3133, 0.3133],\n",
      "         [0.3133, 0.3133, 1.3133],\n",
      "         [0.3133, 0.3133, 1.3133]]])\n",
      "tensor(0.5355)\n"
     ]
    }
   ],
   "source": [
    "log_softmax = torch.log_softmax(output, dim = 1)\n",
    "y = target.type(torch.LongTensor) \n",
    "\n",
    "print(log_softmax)\n",
    "print(y)\n",
    "\n",
    "l_n  = -(log_softmax[:, 0, :, :]*(y == 0) + log_softmax[:, 1, :, :]*(y == 1))\n",
    "print(l_n)\n",
    "\n",
    "l = torch.mean(l_n)\n",
    "print(l)"
   ]
  },
  {
   "cell_type": "code",
   "execution_count": 98,
   "metadata": {},
   "outputs": [
    {
     "name": "stdout",
     "output_type": "stream",
     "text": [
      "tensor([[[[1, 0, 1],\n",
      "          [1, 1, 1],\n",
      "          [0, 0, 1]]]])\n",
      "tensor([[[[0., 1., 0.],\n",
      "          [0., 0., 0.],\n",
      "          [1., 1., 0.]],\n",
      "\n",
      "         [[1., 0., 1.],\n",
      "          [1., 1., 1.],\n",
      "          [0., 0., 1.]]]])\n",
      "tensor([[[0.3133, 0.3133, 0.3133],\n",
      "         [0.3133, 0.3133, 1.3133],\n",
      "         [0.3133, 0.3133, 1.3133]]])\n",
      "tensor(0.5355)\n"
     ]
    }
   ],
   "source": [
    "# for N classes\n",
    "\n",
    "log_softmax = torch.log_softmax(output, dim = 1)\n",
    "y = target.type(torch.LongTensor) \n",
    "\n",
    "y = y.unsqueeze(1)\n",
    "n_cls = output.size(1)\n",
    "shape = np.array(y.shape)\n",
    "shape[1] = n_cls\n",
    "one_hot = torch.zeros(tuple(shape))\n",
    "one_hot = one_hot.scatter_(1, y, 1)\n",
    "\n",
    "print(y)\n",
    "print(one_hot)\n",
    "\n",
    "log_softmax = torch.log_softmax(output, dim = 1)\n",
    "l_n =-torch.sum(log_softmax*one_hot, dim = 1)\n",
    "print(l_n)\n",
    "\n",
    "l = torch.mean(l_n)\n",
    "print(l)\n"
   ]
  }
 ],
 "metadata": {
  "interpreter": {
   "hash": "31f2aee4e71d21fbe5cf8b01ff0e069b9275f58929596ceb00d14d90e3e16cd6"
  },
  "kernelspec": {
   "display_name": "Python 3.8.10 64-bit",
   "language": "python",
   "name": "python3"
  },
  "language_info": {
   "codemirror_mode": {
    "name": "ipython",
    "version": 3
   },
   "file_extension": ".py",
   "mimetype": "text/x-python",
   "name": "python",
   "nbconvert_exporter": "python",
   "pygments_lexer": "ipython3",
   "version": "3.8.0"
  },
  "orig_nbformat": 4
 },
 "nbformat": 4,
 "nbformat_minor": 2
}
