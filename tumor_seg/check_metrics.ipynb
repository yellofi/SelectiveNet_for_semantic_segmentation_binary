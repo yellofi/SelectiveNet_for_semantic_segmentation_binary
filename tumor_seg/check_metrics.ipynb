{
 "cells": [
  {
   "cell_type": "code",
   "execution_count": 1,
   "metadata": {},
   "outputs": [
    {
     "name": "stderr",
     "output_type": "stream",
     "text": [
      "/usr/local/lib/python3.8/dist-packages/tqdm/auto.py:22: TqdmWarning: IProgress not found. Please update jupyter and ipywidgets. See https://ipywidgets.readthedocs.io/en/stable/user_install.html\n",
      "  from .autonotebook import tqdm as notebook_tqdm\n"
     ]
    }
   ],
   "source": [
    "import torch\n",
    "import numpy as np"
   ]
  },
  {
   "cell_type": "code",
   "execution_count": 9,
   "metadata": {},
   "outputs": [
    {
     "name": "stdout",
     "output_type": "stream",
     "text": [
      "torch.Size([1, 3, 3]) torch.float32 torch.Size([1, 2, 3, 3]) torch.float32\n",
      "(1, 3, 3) uint8 (1, 3, 3) uint8\n"
     ]
    }
   ],
   "source": [
    "target = np.array([[[1, 0, 1], [1, 1, 1], [0, 0, 1]]])\n",
    "target = torch.from_numpy(target).type(torch.float32)\n",
    "\n",
    "output = torch.tensor([[[[0, 0, 0], [0, 0, 1], [1, 1, 1]], [[1, 1, 1], [1, 1, 0], [0, 0, 0]]]], dtype = torch.float32)\n",
    "\n",
    "print(target.size(), target.dtype, output.size(), output.dtype)\n",
    "\n",
    "selective = 0\n",
    "n_cls = 2\n",
    "\n",
    "NCHW_tonumpy = lambda x : x.to('cpu').detach().numpy().transpose(0, 2, 3, 1) # (N, C, H, W) -> (N, H, W, C)\n",
    "NHW_tonumpy = lambda x: x.to('cpu').detach().numpy()\n",
    "\n",
    "target = NHW_tonumpy(target).astype('uint8')\n",
    "\n",
    "output = NCHW_tonumpy(output)\n",
    "pred = np.argmax(output, axis = -1).astype('uint8')\n",
    "\n",
    "print(target.shape, target.dtype, pred.shape, pred.dtype)"
   ]
  },
  {
   "cell_type": "code",
   "execution_count": 10,
   "metadata": {},
   "outputs": [
    {
     "data": {
      "text/plain": [
       "(array([[[1, 0, 1],\n",
       "         [1, 1, 1],\n",
       "         [0, 0, 1]]], dtype=uint8),\n",
       " array([[[1, 1, 1],\n",
       "         [1, 1, 0],\n",
       "         [0, 0, 0]]], dtype=uint8))"
      ]
     },
     "execution_count": 10,
     "metadata": {},
     "output_type": "execute_result"
    }
   ],
   "source": [
    "target, pred"
   ]
  },
  {
   "cell_type": "code",
   "execution_count": 11,
   "metadata": {},
   "outputs": [],
   "source": [
    "from compute_metric import Evaluator\n",
    "\n",
    "evaluator = Evaluator(num_class=n_cls, selective=selective)\n",
    "\n",
    "evaluator.add_batch(label=target, pred=pred)"
   ]
  },
  {
   "cell_type": "code",
   "execution_count": 12,
   "metadata": {},
   "outputs": [
    {
     "name": "stdout",
     "output_type": "stream",
     "text": [
      "[[2. 1.]\n",
      " [2. 4.]]\n"
     ]
    },
    {
     "data": {
      "text/plain": [
       "array([[2., 1.],\n",
       "       [2., 4.]])"
      ]
     },
     "execution_count": 12,
     "metadata": {},
     "output_type": "execute_result"
    }
   ],
   "source": [
    "evaluator.Confusion_Matrix()"
   ]
  },
  {
   "cell_type": "code",
   "execution_count": 13,
   "metadata": {},
   "outputs": [
    {
     "name": "stdout",
     "output_type": "stream",
     "text": [
      "    Acc:0.6666666666666666\n",
      "    Acc_class:0.6666666666666666\n",
      "    Prec:[0.5 0.8], Recall:[0.66666667 0.66666667], F1_Score:[0.57142857 0.72727273]\n",
      "    mIoU:0.4857142857142857\n",
      "    IoU_class:[0.4        0.57142857]\n"
     ]
    }
   ],
   "source": [
    "Acc = evaluator.get_Pixel_Accuracy()\n",
    "Acc_class = evaluator.get_Pixel_Accuracy_Class()\n",
    "Prec = evaluator.get_Precision()\n",
    "Recall = evaluator.get_Recall()\n",
    "F1_Score = evaluator.get_F1_Score(Prec, Recall)\n",
    "mIoU = evaluator.get_mIoU()\n",
    "IoU_class = evaluator.get_IoU_Class()\n",
    "# FWIoU = evaluator.get_FWIoU()\n",
    "\n",
    "print(f'    Acc:{Acc}')\n",
    "print(f'    Acc_class:{Acc_class}')\n",
    "print(f'    Prec:{Prec}, Recall:{Recall}, F1_Score:{F1_Score}')\n",
    "print(f'    mIoU:{mIoU}')\n",
    "print(f'    IoU_class:{IoU_class}')"
   ]
  },
  {
   "cell_type": "code",
   "execution_count": 14,
   "metadata": {},
   "outputs": [
    {
     "data": {
      "text/plain": [
       "0.6224593312018546"
      ]
     },
     "execution_count": 14,
     "metadata": {},
     "output_type": "execute_result"
    }
   ],
   "source": [
    "fn_sigmoid = lambda x : 1/(1+ np.exp(-x))\n",
    "\n",
    "fn_sigmoid(0.5)"
   ]
  },
  {
   "cell_type": "code",
   "execution_count": 15,
   "metadata": {},
   "outputs": [
    {
     "data": {
      "text/plain": [
       "0.5"
      ]
     },
     "execution_count": 15,
     "metadata": {},
     "output_type": "execute_result"
    }
   ],
   "source": [
    "fn_sigmoid(0)"
   ]
  }
 ],
 "metadata": {
  "interpreter": {
   "hash": "31f2aee4e71d21fbe5cf8b01ff0e069b9275f58929596ceb00d14d90e3e16cd6"
  },
  "kernelspec": {
   "display_name": "Python 3.8.10 64-bit",
   "language": "python",
   "name": "python3"
  },
  "language_info": {
   "codemirror_mode": {
    "name": "ipython",
    "version": 3
   },
   "file_extension": ".py",
   "mimetype": "text/x-python",
   "name": "python",
   "nbconvert_exporter": "python",
   "pygments_lexer": "ipython3",
   "version": "3.8.10"
  },
  "orig_nbformat": 4
 },
 "nbformat": 4,
 "nbformat_minor": 2
}
