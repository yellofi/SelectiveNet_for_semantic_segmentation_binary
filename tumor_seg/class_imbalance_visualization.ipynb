{
 "cells": [
  {
   "cell_type": "code",
   "execution_count": 6,
   "metadata": {},
   "outputs": [],
   "source": [
    "import os, cv2\n",
    "import numpy as np\n",
    "\n",
    "data_dir = '/mnt/hdd1/c-MET_datasets/Lung_c-MET IHC_scored/DL-based_tumor_seg_dataset'\n",
    "\n",
    "k = 5 \n",
    "class_pixels = []\n",
    "for i in range(1, k+1):\n",
    "    i_fold_train_dir = os.path.join(data_dir, f'{i}-fold', 'train')\n",
    "    label_list = [f for f in os.listdir(i_fold_train_dir) if 'label' in f]\n",
    "    tumor, non_tumor = 0, 0\n",
    "    for label in label_list:\n",
    "        label_img = cv2.imread(os.path.join(i_fold_train_dir, label), cv2.IMREAD_GRAYSCALE)\n",
    "        tumor += len(np.where(label_img == 255)[0])\n",
    "        non_tumor += len(np.where(label_img == 0)[0]) \n",
    "        if len(np.where(label_img == 255)[0]) + len(np.where(label_img == 0)[0]) != label_img.shape[0]*label_img.shape[1]:\n",
    "            print(f'Check the label: {os.path.join(i_fold_train_dir, label)}')\n",
    "            break\n",
    "    class_pixels.append((non_tumor, tumor))"
   ]
  },
  {
   "cell_type": "code",
   "execution_count": 10,
   "metadata": {},
   "outputs": [
    {
     "data": {
      "text/plain": [
       "array([[23772391, 45302553],\n",
       "       [23897478, 45177466],\n",
       "       [21542464, 47532480],\n",
       "       [24313908, 44761036],\n",
       "       [20660211, 48414733]])"
      ]
     },
     "execution_count": 10,
     "metadata": {},
     "output_type": "execute_result"
    }
   ],
   "source": [
    "class_pixels = np.asarray(class_pixels)\n",
    "class_pixels"
   ]
  },
  {
   "cell_type": "code",
   "execution_count": 150,
   "metadata": {},
   "outputs": [
    {
     "data": {
      "text/plain": [
       "array([22837290.4, 46237653.6])"
      ]
     },
     "execution_count": 150,
     "metadata": {},
     "output_type": "execute_result"
    }
   ],
   "source": [
    "np.mean(class_pixels, axis = 0)"
   ]
  },
  {
   "cell_type": "code",
   "execution_count": 151,
   "metadata": {},
   "outputs": [
    {
     "data": {
      "text/plain": [
       "2.024655849714991"
      ]
     },
     "execution_count": 151,
     "metadata": {},
     "output_type": "execute_result"
    }
   ],
   "source": [
    "np.mean(class_pixels, axis = 0)[1]/np.mean(class_pixels, axis = 0)[0]"
   ]
  },
  {
   "cell_type": "code",
   "execution_count": 84,
   "metadata": {},
   "outputs": [
    {
     "data": {
      "image/png": "[encoded data removed]",
      "text/plain": [
       "<Figure size 504x504 with 1 Axes>"
      ]
     },
     "metadata": {
      "needs_background": "light"
     },
     "output_type": "display_data"
    }
   ],
   "source": [
    "import matplotlib.pyplot as plt\n",
    "\n",
    "plt.figure(figsize = (7, 7))\n",
    "# plt.title(\"# of pixels within each region\", fontsize = 15)\n",
    "plt.boxplot(class_pixels, autorange=False, labels = ['non tumor region', 'tumor region'])\n",
    "plt.xticks(fontsize=13)\n",
    "plt.yticks(fontsize=12)\n",
    "# plt.ylim(0, 50000000.0)\n",
    "plt.ylabel(\"# of pixels\", fontsize = 13)\n",
    "plt.show()"
   ]
  },
  {
   "cell_type": "code",
   "execution_count": 47,
   "metadata": {},
   "outputs": [],
   "source": [
    "k = 5 \n",
    "class_pixels_without_non_tissue = []\n",
    "for i in range(1, k+1):\n",
    "    i_fold_train_dir = os.path.join(data_dir, f'{i}-fold', 'train')\n",
    "    label_list = [f for f in os.listdir(i_fold_train_dir) if 'label' in f and 'S-LC' not in f]\n",
    "    tumor, non_tumor = 0, 0\n",
    "    for label in label_list:\n",
    "        label_img = cv2.imread(os.path.join(i_fold_train_dir, label), cv2.IMREAD_GRAYSCALE)\n",
    "        tumor += len(np.where(label_img == 255)[0])\n",
    "        non_tumor += len(np.where(label_img == 0)[0]) \n",
    "        if len(np.where(label_img == 255)[0]) + len(np.where(label_img == 0)[0]) != label_img.shape[0]*label_img.shape[1]:\n",
    "            print(f'Check the label: {os.path.join(i_fold_train_dir, label)}')\n",
    "            break\n",
    "    class_pixels_without_non_tissue.append((non_tumor, tumor))"
   ]
  },
  {
   "cell_type": "code",
   "execution_count": 50,
   "metadata": {},
   "outputs": [
    {
     "data": {
      "text/plain": [
       "array([[17612007, 45302553],\n",
       "       [17737094, 45177466],\n",
       "       [15382080, 47532480],\n",
       "       [18153524, 44761036],\n",
       "       [14499827, 48414733]])"
      ]
     },
     "execution_count": 50,
     "metadata": {},
     "output_type": "execute_result"
    }
   ],
   "source": [
    "class_pixels_without_non_tissue = np.asarray(class_pixels_without_non_tissue)\n",
    "class_pixels_without_non_tissue"
   ]
  },
  {
   "cell_type": "code",
   "execution_count": 64,
   "metadata": {},
   "outputs": [
    {
     "data": {
      "text/plain": [
       "array([16676906.4, 46237653.6])"
      ]
     },
     "execution_count": 64,
     "metadata": {},
     "output_type": "execute_result"
    }
   ],
   "source": [
    "np.mean(class_pixels_without_non_tissue, axis = 0)"
   ]
  },
  {
   "cell_type": "code",
   "execution_count": 152,
   "metadata": {},
   "outputs": [
    {
     "data": {
      "text/plain": [
       "2.772555802076097"
      ]
     },
     "execution_count": 152,
     "metadata": {},
     "output_type": "execute_result"
    }
   ],
   "source": [
    "np.mean(class_pixels_without_non_tissue, axis = 0)[1]/np.mean(class_pixels_without_non_tissue, axis = 0)[0]"
   ]
  },
  {
   "cell_type": "code",
   "execution_count": 149,
   "metadata": {},
   "outputs": [
    {
     "data": {
      "image/png": "[encoded data removed]",
      "text/plain": [
       "<Figure size 504x504 with 1 Axes>"
      ]
     },
     "metadata": {
      "needs_background": "light"
     },
     "output_type": "display_data"
    }
   ],
   "source": [
    "plt.figure(figsize = (7, 7))\n",
    "# plt.title(\"# of pixels within each region\", fontsize = 15)\n",
    "plt.boxplot(class_pixels_without_non_tissue, autorange=False, labels = ['non tumor region', 'tumor region'])\n",
    "plt.xticks(fontsize=13)\n",
    "plt.yticks(fontsize=12)\n",
    "# plt.ylim(0, 50000000.0)\n",
    "plt.ylabel(\"# of pixels\", fontsize = 13)\n",
    "plt.show()"
   ]
  },
  {
   "cell_type": "code",
   "execution_count": 85,
   "metadata": {},
   "outputs": [],
   "source": [
    "import pandas as pd \n",
    "import seaborn as sns"
   ]
  },
  {
   "cell_type": "code",
   "execution_count": 129,
   "metadata": {},
   "outputs": [],
   "source": [
    "df = pd.DataFrame(columns = ['fold', 'class', '# of pixels'])\n",
    "\n",
    "for k, p in enumerate(class_pixels):\n",
    "    for c in range(len(class_pixels[0])):\n",
    "        if c == 1:\n",
    "            class_name = 'tumor'\n",
    "        elif c == 0:\n",
    "            class_name = 'non tumor' \n",
    "\n",
    "        df = df.append({'fold': k+1, 'class': class_name, '# of pixels': p[c]}, ignore_index=True)"
   ]
  },
  {
   "cell_type": "code",
   "execution_count": 130,
   "metadata": {},
   "outputs": [
    {
     "data": {
      "text/html": [
       "<div>\n",
       "<style scoped>\n",
       "    .dataframe tbody tr th:only-of-type {\n",
       "        vertical-align: middle;\n",
       "    }\n",
       "\n",
       "    .dataframe tbody tr th {\n",
       "        vertical-align: top;\n",
       "    }\n",
       "\n",
       "    .dataframe thead th {\n",
       "        text-align: right;\n",
       "    }\n",
       "</style>\n",
       "<table border=\"1\" class=\"dataframe\">\n",
       "  <thead>\n",
       "    <tr style=\"text-align: right;\">\n",
       "      <th></th>\n",
       "      <th>fold</th>\n",
       "      <th>class</th>\n",
       "      <th># of pixels</th>\n",
       "    </tr>\n",
       "  </thead>\n",
       "  <tbody>\n",
       "    <tr>\n",
       "      <th>0</th>\n",
       "      <td>1</td>\n",
       "      <td>non tumor</td>\n",
       "      <td>23772391</td>\n",
       "    </tr>\n",
       "    <tr>\n",
       "      <th>1</th>\n",
       "      <td>1</td>\n",
       "      <td>tumor</td>\n",
       "      <td>45302553</td>\n",
       "    </tr>\n",
       "    <tr>\n",
       "      <th>2</th>\n",
       "      <td>2</td>\n",
       "      <td>non tumor</td>\n",
       "      <td>23897478</td>\n",
       "    </tr>\n",
       "    <tr>\n",
       "      <th>3</th>\n",
       "      <td>2</td>\n",
       "      <td>tumor</td>\n",
       "      <td>45177466</td>\n",
       "    </tr>\n",
       "    <tr>\n",
       "      <th>4</th>\n",
       "      <td>3</td>\n",
       "      <td>non tumor</td>\n",
       "      <td>21542464</td>\n",
       "    </tr>\n",
       "    <tr>\n",
       "      <th>5</th>\n",
       "      <td>3</td>\n",
       "      <td>tumor</td>\n",
       "      <td>47532480</td>\n",
       "    </tr>\n",
       "    <tr>\n",
       "      <th>6</th>\n",
       "      <td>4</td>\n",
       "      <td>non tumor</td>\n",
       "      <td>24313908</td>\n",
       "    </tr>\n",
       "    <tr>\n",
       "      <th>7</th>\n",
       "      <td>4</td>\n",
       "      <td>tumor</td>\n",
       "      <td>44761036</td>\n",
       "    </tr>\n",
       "    <tr>\n",
       "      <th>8</th>\n",
       "      <td>5</td>\n",
       "      <td>non tumor</td>\n",
       "      <td>20660211</td>\n",
       "    </tr>\n",
       "    <tr>\n",
       "      <th>9</th>\n",
       "      <td>5</td>\n",
       "      <td>tumor</td>\n",
       "      <td>48414733</td>\n",
       "    </tr>\n",
       "  </tbody>\n",
       "</table>\n",
       "</div>"
      ],
      "text/plain": [
       "  fold      class # of pixels\n",
       "0    1  non tumor    23772391\n",
       "1    1      tumor    45302553\n",
       "2    2  non tumor    23897478\n",
       "3    2      tumor    45177466\n",
       "4    3  non tumor    21542464\n",
       "5    3      tumor    47532480\n",
       "6    4  non tumor    24313908\n",
       "7    4      tumor    44761036\n",
       "8    5  non tumor    20660211\n",
       "9    5      tumor    48414733"
      ]
     },
     "execution_count": 130,
     "metadata": {},
     "output_type": "execute_result"
    }
   ],
   "source": [
    "df"
   ]
  },
  {
   "cell_type": "code",
   "execution_count": 148,
   "metadata": {},
   "outputs": [
    {
     "data": {
      "image/png": "[encoded data removed]",
      "text/plain": [
       "<Figure size 432x432 with 1 Axes>"
      ]
     },
     "metadata": {
      "needs_background": "light"
     },
     "output_type": "display_data"
    }
   ],
   "source": [
    "plt.figure(figsize=(6, 6))\n",
    "\n",
    "ax = sns.boxplot(x = 'class', y= '# of pixels',  data = df, linewidth = 2.5, palette='Set2')\n",
    "ax = sns.swarmplot(x = 'class', y= '# of pixels', data = df, color=\".25\", size=10)\n",
    "\n",
    "plt.show()"
   ]
  },
  {
   "cell_type": "code",
   "execution_count": 145,
   "metadata": {},
   "outputs": [
    {
     "data": {
      "text/plain": [
       "<bound method _AxesBase.get_xlabel of <AxesSubplot:xlabel='class', ylabel='# of pixels'>>"
      ]
     },
     "execution_count": 145,
     "metadata": {},
     "output_type": "execute_result"
    }
   ],
   "source": [
    "ax.get_xlabel"
   ]
  },
  {
   "cell_type": "code",
   "execution_count": null,
   "metadata": {},
   "outputs": [],
   "source": []
  }
 ],
 "metadata": {
  "interpreter": {
   "hash": "767d51c1340bd893661ea55ea3124f6de3c7a262a8b4abca0554b478b1e2ff90"
  },
  "kernelspec": {
   "display_name": "Python 3.8.0 64-bit",
   "language": "python",
   "name": "python3"
  },
  "language_info": {
   "codemirror_mode": {
    "name": "ipython",
    "version": 3
   },
   "file_extension": ".py",
   "mimetype": "text/x-python",
   "name": "python",
   "nbconvert_exporter": "python",
   "pygments_lexer": "ipython3",
   "version": "3.8.0"
  },
  "orig_nbformat": 4
 },
 "nbformat": 4,
 "nbformat_minor": 2
}
