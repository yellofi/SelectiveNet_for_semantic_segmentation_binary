{
 "cells": [
  {
   "cell_type": "code",
   "execution_count": 5,
   "metadata": {},
   "outputs": [],
   "source": [
    "import os \n",
    "import openslide\n",
    "import cv2\n",
    "import numpy as np\n",
    "import time\n",
    "from xml.etree.ElementTree import parse\n",
    "import matplotlib.pyplot as plt\n",
    "\n",
    "NORMAL_COLOR = 0\n",
    "PATTERN3_COLOR = 1\n",
    "PATTERN3_COLOR = (255, 255, 0)\n",
    "PATTERN4_COLOR = 2\n",
    "PATTERN5_COLOR = 3\n",
    "TUMOR_COLOR = 4\n",
    "TUMOR_COLOR = (255, 0, 0)\n",
    "\n",
    "class Annotation:\n",
    "    def __init__(self, slide_path, xml_path, level = -1):\n",
    "\n",
    "        self.slide_path = slide_path\n",
    "        self.xml_path = xml_path\n",
    "        self.level = level\n",
    "\n",
    "        self.slide = openslide.OpenSlide(slide_path)\n",
    "        self.xml = parse(xml_path).getroot()\n",
    "\n",
    "        slide_thumbnail = self.slide.get_thumbnail(self.slide.level_dimensions[self.level])\n",
    "        slide_thumbnail = slide_thumbnail.convert('RGB')\n",
    "        self.slide_thumbnail = np.array(slide_thumbnail)\n",
    "\n",
    "    def get_coordinates(self):\n",
    "\n",
    "        # if slide.level_count < 4:\n",
    "        #     level_index = slide.level_count-1\n",
    "        # else:\n",
    "        #     level_index = 3\n",
    "\n",
    "        slide_mask_ratio = round(self.slide.level_downsamples[self.level])\n",
    "\n",
    "        annotations = []\n",
    "        non_target_annotations = []\n",
    "        patterns = []\n",
    "\n",
    "        for anno in self.xml.iter('Annotation'):\n",
    "            pattern = anno.get('class')\n",
    "            patterns.append(pattern)\n",
    "            annotation = []\n",
    "            for i, coors in enumerate(anno):\n",
    "                if i == 0: \n",
    "                    continue\n",
    "                coordinates = []\n",
    "                for coor in coors:\n",
    "                    # coordinates.append([round(float(coor.get('x'))), round(float(coor.get('y')))])\n",
    "                    coordinates.append([round(float(coor.get('x'))//slide_mask_ratio), round(float(coor.get('y'))//slide_mask_ratio)])\n",
    "                annotation.append(coordinates)\n",
    "            if pattern == 'Pattern5':\n",
    "                annotations.append(annotation)\n",
    "            if pattern == 'Pattern3':\n",
    "                non_target_annotations.append(annotation)\n",
    "\n",
    "        return annotations, non_target_annotations\n",
    "\n",
    "    def make_mask(self, annotations, color = 255):\n",
    "\n",
    "        width, height = self.slide.level_dimensions[self.level]\n",
    "        mask = np.zeros((height, width)).astype(np.uint8)\n",
    "        # mask = np.zeros((height, width, 3)).astype(np.uint8)\n",
    "\n",
    "        for anno in annotations:\n",
    "            _anno = []\n",
    "            for coors in anno:\n",
    "                _anno.append(np.array(coors))\n",
    "            cv2.drawContours(mask, _anno, -1, color, -1)\n",
    "\n",
    "        return mask\n",
    "\n",
    "slide_dir = '/mnt/hdd1/c-MET_datasets/SLIDE_DATA/tumor_annotation'\n",
    "label_dir = slide_dir + '/annotation' \n",
    "plot_save_dir = slide_dir + '/overlay'\n",
    "\n",
    "os.makedirs(plot_save_dir, exist_ok = True)\n",
    "\n",
    "slide_list = sorted([svs for svs in os.listdir(slide_dir) if 'svs' in svs])\n",
    "label_list = sorted([xml for xml in os.listdir(label_dir) if 'xml' in xml])"
   ]
  },
  {
   "cell_type": "code",
   "execution_count": 6,
   "metadata": {},
   "outputs": [
    {
     "data": {
      "text/plain": [
       "['S-LC0027-MET.svs',\n",
       " 'S-LC0032-MET.svs',\n",
       " 'S-LC0047-MET.svs',\n",
       " 'S-LC0059-MET.svs',\n",
       " 'S-LC0080-MET.svs',\n",
       " 'S-LC0087-MET.svs',\n",
       " 'S-LC0090-MET.svs',\n",
       " 'S-LC0094-MET.svs',\n",
       " 'S-LC0106-MET.svs',\n",
       " 'S-LC0107-MET.svs']"
      ]
     },
     "execution_count": 6,
     "metadata": {},
     "output_type": "execute_result"
    }
   ],
   "source": [
    "slide_list"
   ]
  },
  {
   "cell_type": "code",
   "execution_count": 7,
   "metadata": {},
   "outputs": [
    {
     "data": {
      "text/plain": [
       "['S-LC0027-MET.xml',\n",
       " 'S-LC0032-MET.xml',\n",
       " 'S-LC0047-MET.xml',\n",
       " 'S-LC0059-MET.xml',\n",
       " 'S-LC0080-MET.xml',\n",
       " 'S-LC0087-MET.xml',\n",
       " 'S-LC0090-MET.xml',\n",
       " 'S-LC0094-MET.xml',\n",
       " 'S-LC0106-MET.xml',\n",
       " 'S-LC0107-MET.xml']"
      ]
     },
     "execution_count": 7,
     "metadata": {},
     "output_type": "execute_result"
    }
   ],
   "source": [
    "label_list"
   ]
  },
  {
   "cell_type": "code",
   "execution_count": 8,
   "metadata": {},
   "outputs": [
    {
     "name": "stdout",
     "output_type": "stream",
     "text": [
      "S-LC0027-MET | slide/mask ratio: 32 | size: (1568, 3237) | time: 3.16 sec\n",
      "S-LC0032-MET | slide/mask ratio: 64 | size: (854, 2116) | time: 1.45 sec\n",
      "S-LC0047-MET | slide/mask ratio: 64 | size: (1019, 2365) | time: 2.56 sec\n",
      "S-LC0059-MET | slide/mask ratio: 32 | size: (2970, 3485) | time: 5.53 sec\n",
      "S-LC0080-MET | slide/mask ratio: 64 | size: (725, 2334) | time: 1.34 sec\n",
      "S-LC0087-MET | slide/mask ratio: 64 | size: (1090, 2365) | time: 2.29 sec\n",
      "S-LC0090-MET | slide/mask ratio: 64 | size: (1306, 2458) | time: 2.12 sec\n",
      "S-LC0094-MET | slide/mask ratio: 64 | size: (1266, 2458) | time: 2.56 sec\n",
      "S-LC0106-MET | slide/mask ratio: 64 | size: (793, 2054) | time: 2.05 sec\n",
      "S-LC0107-MET | slide/mask ratio: 64 | size: (1377, 2365) | time: 2.43 sec\n",
      "total time: 25.48 sec\n"
     ]
    }
   ],
   "source": [
    "total_time = 0\n",
    "for i, (slide_file, anno_file) in enumerate(zip(slide_list, label_list)):\n",
    "    start_time = time.time()\n",
    "    \n",
    "    if slide_file[:-4] != anno_file[:-4]:\n",
    "        print(\"Check the pairness between slide and ROI annotation\")\n",
    "        break\n",
    "    \n",
    "    slide_name = slide_file[:-4]\n",
    " \n",
    "    slide_path = os.path.join(slide_dir, slide_file)\n",
    "    label_path = os.path.join(label_dir, anno_file)\n",
    "\n",
    "    AN = Annotation(slide_path = slide_path, xml_path = label_path, level = -1)\n",
    "    annotations, non_target_annotations = AN.get_coordinates()\n",
    "    tumor_label = AN.make_mask(annotations=annotations, color = 255)\n",
    "\n",
    "    plt.figure(figsize=(30, 20))\n",
    "    plt.imshow(AN.slide_thumbnail)\n",
    "\n",
    "    if len(non_target_annotations) != 0:\n",
    "        non_target_label = AN.make_mask(annotations=non_target_annotations, color = 50)\n",
    "        label = cv2.bitwise_or(tumor_label, non_target_label)\n",
    "        plt.imshow(label, cmap = 'jet', vmax = 255, vmin=0, alpha = 0.3)\n",
    "\n",
    "    else:\n",
    "        plt.imshow(tumor_label, cmap = 'jet', vmax = 255, vmin=0, alpha = 0.3)\n",
    "\n",
    "    plt.savefig(f'{plot_save_dir}/{slide_name}_tumor_anno_overlay.jpg', bbox_inches = 'tight')\n",
    "    plt.close()\n",
    "    \n",
    "    end_time = time.time()\n",
    "    taken = end_time - start_time\n",
    "    print(f'{slide_name} | slide/mask ratio: {int(AN.slide.level_downsamples[-1])} | size: {tumor_label.shape} | time: {round(taken, 2)} sec')\n",
    "    total_time += taken\n",
    "    \n",
    "print(f'total time: {round(total_time, 2)} sec')"
   ]
  },
  {
   "cell_type": "code",
   "execution_count": 47,
   "metadata": {},
   "outputs": [
    {
     "data": {
      "text/plain": [
       "True"
      ]
     },
     "execution_count": 47,
     "metadata": {},
     "output_type": "execute_result"
    }
   ],
   "source": [
    "os.path.isdir('/mnt/hdd1/c-MET_datasets/SLIDE_DATA/1차annotation/annotation')"
   ]
  },
  {
   "cell_type": "code",
   "execution_count": 1,
   "metadata": {},
   "outputs": [
    {
     "data": {
      "text/plain": [
       "9.66842105263158"
      ]
     },
     "execution_count": 1,
     "metadata": {},
     "output_type": "execute_result"
    }
   ],
   "source": [
    "18.37/1.9"
   ]
  },
  {
   "cell_type": "markdown",
   "metadata": {},
   "source": [
    "level = 0 은 너무 오래걸림 --> 이거 plt.imshow에서 터진 듯\n",
    "\n",
    "밑에 계산 무의미\n",
    "\n",
    "실제로 get_patch.py에서 순수하게 tumor label mask 뽑는 것만 살려놓고 실험해본 결과,\n",
    "\n",
    "S-LC0106-MET\n",
    "\n",
    "- level_dimensions: (131471, 50812), (32867, 12703), (8216, 3175), (2054, 793))\n",
    "- level_downsamples: 1, 4, 16, 64\n",
    "- level 0 - 18.37 sec (naive 18.37sec*121 = 37 min)\n",
    "- level 1 - 1.9 sec (naive 1.9sec*121 = 3 min 50 sec)\n",
    "- level 2 - 0.82 sec (naive 0.82sec*121 = 1 min 39 sec)\n",
    "- level 3 - 0.81 sec (naive 0.82sec*121 = 1 min 38 sec)\n"
   ]
  },
  {
   "cell_type": "code",
   "execution_count": 10,
   "metadata": {},
   "outputs": [
    {
     "data": {
      "text/plain": [
       "(3.0, 3.700000000000017)"
      ]
     },
     "execution_count": 10,
     "metadata": {},
     "output_type": "execute_result"
    }
   ],
   "source": [
    "divmod(18.37*10, 60)"
   ]
  },
  {
   "cell_type": "code",
   "execution_count": null,
   "metadata": {},
   "outputs": [],
   "source": [
    "divmod(0.81*121, 10)"
   ]
  },
  {
   "cell_type": "code",
   "execution_count": 4,
   "metadata": {},
   "outputs": [
    {
     "data": {
      "text/plain": [
       "OpenSlide('/mnt/hdd1/c-MET_datasets/SLIDE_DATA/1차annotation/S-LC0027-MET.svs')"
      ]
     },
     "execution_count": 4,
     "metadata": {},
     "output_type": "execute_result"
    }
   ],
   "source": [
    "slide_path = os.path.join(slide_dir, slide_list[0])\n",
    "slide = openslide.OpenSlide(slide_path)\n",
    "\n",
    "slide"
   ]
  },
  {
   "cell_type": "code",
   "execution_count": 12,
   "metadata": {},
   "outputs": [
    {
     "data": {
      "text/plain": [
       "4"
      ]
     },
     "execution_count": 12,
     "metadata": {},
     "output_type": "execute_result"
    }
   ],
   "source": [
    "slide.level_count"
   ]
  },
  {
   "cell_type": "code",
   "execution_count": 5,
   "metadata": {},
   "outputs": [
    {
     "data": {
      "text/plain": [
       "((103584, 50191), (25896, 12547), (6474, 3136), (3237, 1568))"
      ]
     },
     "execution_count": 5,
     "metadata": {},
     "output_type": "execute_result"
    }
   ],
   "source": [
    "slide.level_dimensions"
   ]
  },
  {
   "cell_type": "code",
   "execution_count": 9,
   "metadata": {},
   "outputs": [
    {
     "ename": "AttributeError",
     "evalue": "'numpy.ndarray' object has no attribute 'level_downsamples'",
     "output_type": "error",
     "traceback": [
      "\u001b[0;31m---------------------------------------------------------------------------\u001b[0m",
      "\u001b[0;31mAttributeError\u001b[0m                            Traceback (most recent call last)",
      "\u001b[1;32m/home/yshwang/c-MET/c-met_yellofi/tumor_region_seg/tumor_region_annotation.ipynb Cell 7'\u001b[0m in \u001b[0;36m<cell line: 1>\u001b[0;34m()\u001b[0m\n\u001b[0;32m----> <a href='vscode-notebook-cell://ssh-remote%2B192.168.0.38/home/yshwang/c-MET/c-met_yellofi/tumor_region_seg/tumor_region_annotation.ipynb#ch0000006vscode-remote?line=0'>1</a>\u001b[0m slide\u001b[39m.\u001b[39;49mlevel_downsamples\n",
      "\u001b[0;31mAttributeError\u001b[0m: 'numpy.ndarray' object has no attribute 'level_downsamples'"
     ]
    }
   ],
   "source": [
    "slide.level_downsamples"
   ]
  }
 ],
 "metadata": {
  "interpreter": {
   "hash": "31f2aee4e71d21fbe5cf8b01ff0e069b9275f58929596ceb00d14d90e3e16cd6"
  },
  "kernelspec": {
   "display_name": "Python 3.8.10 64-bit",
   "language": "python",
   "name": "python3"
  },
  "language_info": {
   "codemirror_mode": {
    "name": "ipython",
    "version": 3
   },
   "file_extension": ".py",
   "mimetype": "text/x-python",
   "name": "python",
   "nbconvert_exporter": "python",
   "pygments_lexer": "ipython3",
   "version": "3.8.0"
  },
  "orig_nbformat": 4
 },
 "nbformat": 4,
 "nbformat_minor": 2
}
