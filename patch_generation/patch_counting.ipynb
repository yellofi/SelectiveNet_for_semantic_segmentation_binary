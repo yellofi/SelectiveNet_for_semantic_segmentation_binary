{
 "cells": [
  {
   "cell_type": "code",
   "execution_count": 20,
   "metadata": {},
   "outputs": [],
   "source": [
    "import os \n",
    "\n",
    "patch_dir = '/mnt/hdd1/c-MET_datasets/SLIDE_DATA/록원재단/AT2/C-MET_slide/patch_on_ROI'\n",
    "slide_list = sorted([f for f in os.listdir(patch_dir) if os.path.isdir(os.path.join(patch_dir, f))])\n",
    "\n",
    "slide_ids, patch_nums = [], []\n",
    "for slide_id in slide_list:\n",
    "\n",
    "    data_dir = os.path.join(patch_dir, slide_id, 'x200')\n",
    "    \n",
    "    slide_ids.append(slide_id[:-4])\n",
    "    patch_nums.append(len(os.listdir(data_dir)))"
   ]
  },
  {
   "cell_type": "code",
   "execution_count": 5,
   "metadata": {},
   "outputs": [
    {
     "data": {
      "text/plain": [
       "[19,\n",
       " 6,\n",
       " 10,\n",
       " 195,\n",
       " 38,\n",
       " 25,\n",
       " 1200,\n",
       " 1931,\n",
       " 145,\n",
       " 69,\n",
       " 51,\n",
       " 499,\n",
       " 1038,\n",
       " 973,\n",
       " 1343,\n",
       " 50,\n",
       " 1706,\n",
       " 1049,\n",
       " 379,\n",
       " 56,\n",
       " 140,\n",
       " 633,\n",
       " 38,\n",
       " 4,\n",
       " 1615,\n",
       " 38,\n",
       " 53,\n",
       " 578,\n",
       " 279,\n",
       " 78,\n",
       " 174,\n",
       " 141,\n",
       " 1893,\n",
       " 19,\n",
       " 42,\n",
       " 723,\n",
       " 994,\n",
       " 11,\n",
       " 1093,\n",
       " 27,\n",
       " 38,\n",
       " 1296,\n",
       " 112,\n",
       " 13,\n",
       " 10,\n",
       " 92,\n",
       " 289,\n",
       " 28,\n",
       " 43,\n",
       " 125,\n",
       " 25,\n",
       " 67,\n",
       " 64,\n",
       " 127,\n",
       " 1086,\n",
       " 11,\n",
       " 19,\n",
       " 972,\n",
       " 1444,\n",
       " 644,\n",
       " 495,\n",
       " 17,\n",
       " 966,\n",
       " 1127,\n",
       " 2,\n",
       " 873,\n",
       " 1089,\n",
       " 1349,\n",
       " 1549,\n",
       " 139,\n",
       " 13,\n",
       " 231,\n",
       " 79,\n",
       " 1126,\n",
       " 940,\n",
       " 1313,\n",
       " 29,\n",
       " 24,\n",
       " 59,\n",
       " 31,\n",
       " 868,\n",
       " 46,\n",
       " 1203,\n",
       " 919,\n",
       " 33,\n",
       " 40,\n",
       " 867,\n",
       " 16,\n",
       " 494,\n",
       " 1327,\n",
       " 842,\n",
       " 775,\n",
       " 237,\n",
       " 769,\n",
       " 13,\n",
       " 30,\n",
       " 1434,\n",
       " 95,\n",
       " 29,\n",
       " 27,\n",
       " 1222,\n",
       " 1362,\n",
       " 442,\n",
       " 1342,\n",
       " 130,\n",
       " 72,\n",
       " 1372,\n",
       " 87,\n",
       " 560,\n",
       " 45,\n",
       " 910,\n",
       " 1183,\n",
       " 39,\n",
       " 47,\n",
       " 1321,\n",
       " 7,\n",
       " 181,\n",
       " 71,\n",
       " 77,\n",
       " 29,\n",
       " 1632]"
      ]
     },
     "execution_count": 5,
     "metadata": {},
     "output_type": "execute_result"
    }
   ],
   "source": [
    "patch_nums"
   ]
  },
  {
   "cell_type": "code",
   "execution_count": 18,
   "metadata": {},
   "outputs": [
    {
     "data": {
      "image/png": "[encoded data removed]",
      "text/plain": [
       "<Figure size 720x720 with 1 Axes>"
      ]
     },
     "metadata": {
      "needs_background": "light"
     },
     "output_type": "display_data"
    }
   ],
   "source": [
    "import matplotlib.pyplot as plt\n",
    "\n",
    "plt.figure(figsize = (10, 10))\n",
    "plt.hist(patch_nums, bins = 121)\n",
    "plt.show()"
   ]
  },
  {
   "cell_type": "code",
   "execution_count": 21,
   "metadata": {},
   "outputs": [
    {
     "data": {
      "text/html": [
       "<div>\n",
       "<style scoped>\n",
       "    .dataframe tbody tr th:only-of-type {\n",
       "        vertical-align: middle;\n",
       "    }\n",
       "\n",
       "    .dataframe tbody tr th {\n",
       "        vertical-align: top;\n",
       "    }\n",
       "\n",
       "    .dataframe thead th {\n",
       "        text-align: right;\n",
       "    }\n",
       "</style>\n",
       "<table border=\"1\" class=\"dataframe\">\n",
       "  <thead>\n",
       "    <tr style=\"text-align: right;\">\n",
       "      <th></th>\n",
       "      <th>slide id</th>\n",
       "      <th># of patches</th>\n",
       "    </tr>\n",
       "  </thead>\n",
       "  <tbody>\n",
       "    <tr>\n",
       "      <th>0</th>\n",
       "      <td>S-LC0001</td>\n",
       "      <td>19</td>\n",
       "    </tr>\n",
       "    <tr>\n",
       "      <th>1</th>\n",
       "      <td>S-LC0002</td>\n",
       "      <td>6</td>\n",
       "    </tr>\n",
       "    <tr>\n",
       "      <th>2</th>\n",
       "      <td>S-LC0003</td>\n",
       "      <td>10</td>\n",
       "    </tr>\n",
       "    <tr>\n",
       "      <th>3</th>\n",
       "      <td>S-LC0004</td>\n",
       "      <td>195</td>\n",
       "    </tr>\n",
       "    <tr>\n",
       "      <th>4</th>\n",
       "      <td>S-LC0005</td>\n",
       "      <td>38</td>\n",
       "    </tr>\n",
       "    <tr>\n",
       "      <th>...</th>\n",
       "      <td>...</td>\n",
       "      <td>...</td>\n",
       "    </tr>\n",
       "    <tr>\n",
       "      <th>116</th>\n",
       "      <td>S-LC0117</td>\n",
       "      <td>181</td>\n",
       "    </tr>\n",
       "    <tr>\n",
       "      <th>117</th>\n",
       "      <td>S-LC0119</td>\n",
       "      <td>71</td>\n",
       "    </tr>\n",
       "    <tr>\n",
       "      <th>118</th>\n",
       "      <td>S-LC0120</td>\n",
       "      <td>77</td>\n",
       "    </tr>\n",
       "    <tr>\n",
       "      <th>119</th>\n",
       "      <td>S-LC0121</td>\n",
       "      <td>29</td>\n",
       "    </tr>\n",
       "    <tr>\n",
       "      <th>120</th>\n",
       "      <td>S-LC0122</td>\n",
       "      <td>1632</td>\n",
       "    </tr>\n",
       "  </tbody>\n",
       "</table>\n",
       "<p>121 rows × 2 columns</p>\n",
       "</div>"
      ],
      "text/plain": [
       "     slide id  # of patches\n",
       "0    S-LC0001            19\n",
       "1    S-LC0002             6\n",
       "2    S-LC0003            10\n",
       "3    S-LC0004           195\n",
       "4    S-LC0005            38\n",
       "..        ...           ...\n",
       "116  S-LC0117           181\n",
       "117  S-LC0119            71\n",
       "118  S-LC0120            77\n",
       "119  S-LC0121            29\n",
       "120  S-LC0122          1632\n",
       "\n",
       "[121 rows x 2 columns]"
      ]
     },
     "execution_count": 21,
     "metadata": {},
     "output_type": "execute_result"
    }
   ],
   "source": [
    "import pandas as pd\n",
    "\n",
    "data = {'slide id': slide_ids, '# of patches': patch_nums}\n",
    "df = pd.DataFrame(data)\n",
    "\n",
    "df"
   ]
  },
  {
   "cell_type": "code",
   "execution_count": 22,
   "metadata": {},
   "outputs": [
    {
     "data": {
      "text/html": [
       "<div>\n",
       "<style scoped>\n",
       "    .dataframe tbody tr th:only-of-type {\n",
       "        vertical-align: middle;\n",
       "    }\n",
       "\n",
       "    .dataframe tbody tr th {\n",
       "        vertical-align: top;\n",
       "    }\n",
       "\n",
       "    .dataframe thead th {\n",
       "        text-align: right;\n",
       "    }\n",
       "</style>\n",
       "<table border=\"1\" class=\"dataframe\">\n",
       "  <thead>\n",
       "    <tr style=\"text-align: right;\">\n",
       "      <th></th>\n",
       "      <th># of patches</th>\n",
       "    </tr>\n",
       "  </thead>\n",
       "  <tbody>\n",
       "    <tr>\n",
       "      <th>count</th>\n",
       "      <td>121.000000</td>\n",
       "    </tr>\n",
       "    <tr>\n",
       "      <th>mean</th>\n",
       "      <td>491.785124</td>\n",
       "    </tr>\n",
       "    <tr>\n",
       "      <th>std</th>\n",
       "      <td>556.205541</td>\n",
       "    </tr>\n",
       "    <tr>\n",
       "      <th>min</th>\n",
       "      <td>2.000000</td>\n",
       "    </tr>\n",
       "    <tr>\n",
       "      <th>25%</th>\n",
       "      <td>38.000000</td>\n",
       "    </tr>\n",
       "    <tr>\n",
       "      <th>50%</th>\n",
       "      <td>140.000000</td>\n",
       "    </tr>\n",
       "    <tr>\n",
       "      <th>75%</th>\n",
       "      <td>972.000000</td>\n",
       "    </tr>\n",
       "    <tr>\n",
       "      <th>max</th>\n",
       "      <td>1931.000000</td>\n",
       "    </tr>\n",
       "  </tbody>\n",
       "</table>\n",
       "</div>"
      ],
      "text/plain": [
       "       # of patches\n",
       "count    121.000000\n",
       "mean     491.785124\n",
       "std      556.205541\n",
       "min        2.000000\n",
       "25%       38.000000\n",
       "50%      140.000000\n",
       "75%      972.000000\n",
       "max     1931.000000"
      ]
     },
     "execution_count": 22,
     "metadata": {},
     "output_type": "execute_result"
    }
   ],
   "source": [
    "df.describe()"
   ]
  },
  {
   "cell_type": "code",
   "execution_count": 23,
   "metadata": {},
   "outputs": [
    {
     "data": {
      "text/plain": [
       "slide id        S-LC0001S-LC0002S-LC0003S-LC0004S-LC0005S-LC00...\n",
       "# of patches                                                59506\n",
       "dtype: object"
      ]
     },
     "execution_count": 23,
     "metadata": {},
     "output_type": "execute_result"
    }
   ],
   "source": [
    "df.sum()"
   ]
  },
  {
   "cell_type": "code",
   "execution_count": 25,
   "metadata": {},
   "outputs": [
    {
     "data": {
      "text/plain": [
       "2.3074479884381405"
      ]
     },
     "execution_count": 25,
     "metadata": {},
     "output_type": "execute_result"
    }
   ],
   "source": [
    "137307/59506"
   ]
  },
  {
   "cell_type": "code",
   "execution_count": 46,
   "metadata": {},
   "outputs": [
    {
     "data": {
      "text/plain": [
       "2.3973884986387928"
      ]
     },
     "execution_count": 46,
     "metadata": {},
     "output_type": "execute_result"
    }
   ],
   "source": [
    "142659/59506"
   ]
  },
  {
   "cell_type": "code",
   "execution_count": 39,
   "metadata": {},
   "outputs": [
    {
     "ename": "AttributeError",
     "evalue": "'Line2D' object has no property 'x'",
     "output_type": "error",
     "traceback": [
      "\u001b[0;31m---------------------------------------------------------------------------\u001b[0m",
      "\u001b[0;31mAttributeError\u001b[0m                            Traceback (most recent call last)",
      "\u001b[1;32m/home/yshwang/c-MET/c-met_yellofi/patch_generation/patch_counting.ipynb Cell 8'\u001b[0m in \u001b[0;36m<cell line: 4>\u001b[0;34m()\u001b[0m\n\u001b[1;32m      <a href='vscode-notebook-cell://ssh-remote%2B192.168.0.38/home/yshwang/c-MET/c-met_yellofi/patch_generation/patch_counting.ipynb#ch0000010vscode-remote?line=1'>2</a>\u001b[0m ax \u001b[39m=\u001b[39m df\u001b[39m.\u001b[39mhist()\n\u001b[1;32m      <a href='vscode-notebook-cell://ssh-remote%2B192.168.0.38/home/yshwang/c-MET/c-met_yellofi/patch_generation/patch_counting.ipynb#ch0000010vscode-remote?line=2'>3</a>\u001b[0m ax[\u001b[39m0\u001b[39m][\u001b[39m0\u001b[39m]\u001b[39m.\u001b[39mgrid(\u001b[39m'\u001b[39m\u001b[39moff\u001b[39m\u001b[39m'\u001b[39m)\n\u001b[0;32m----> <a href='vscode-notebook-cell://ssh-remote%2B192.168.0.38/home/yshwang/c-MET/c-met_yellofi/patch_generation/patch_counting.ipynb#ch0000010vscode-remote?line=3'>4</a>\u001b[0m ax[\u001b[39m0\u001b[39;49m][\u001b[39m0\u001b[39;49m]\u001b[39m.\u001b[39;49maxhline(x\u001b[39m=\u001b[39;49m\u001b[39m0\u001b[39;49m, ymin\u001b[39m=\u001b[39;49m\u001b[39m0\u001b[39;49m, ymax\u001b[39m=\u001b[39;49m\u001b[39m1\u001b[39;49m)\n",
      "File \u001b[0;32m/usr/local/lib/python3.8/dist-packages/matplotlib/axes/_axes.py:723\u001b[0m, in \u001b[0;36mAxes.axhline\u001b[0;34m(self, y, xmin, xmax, **kwargs)\u001b[0m\n\u001b[1;32m    <a href='file:///usr/local/lib/python3.8/dist-packages/matplotlib/axes/_axes.py?line=719'>720</a>\u001b[0m scaley \u001b[39m=\u001b[39m (yy \u001b[39m<\u001b[39m ymin) \u001b[39mor\u001b[39;00m (yy \u001b[39m>\u001b[39m ymax)\n\u001b[1;32m    <a href='file:///usr/local/lib/python3.8/dist-packages/matplotlib/axes/_axes.py?line=721'>722</a>\u001b[0m trans \u001b[39m=\u001b[39m \u001b[39mself\u001b[39m\u001b[39m.\u001b[39mget_yaxis_transform(which\u001b[39m=\u001b[39m\u001b[39m'\u001b[39m\u001b[39mgrid\u001b[39m\u001b[39m'\u001b[39m)\n\u001b[0;32m--> <a href='file:///usr/local/lib/python3.8/dist-packages/matplotlib/axes/_axes.py?line=722'>723</a>\u001b[0m l \u001b[39m=\u001b[39m mlines\u001b[39m.\u001b[39;49mLine2D([xmin, xmax], [y, y], transform\u001b[39m=\u001b[39;49mtrans, \u001b[39m*\u001b[39;49m\u001b[39m*\u001b[39;49mkwargs)\n\u001b[1;32m    <a href='file:///usr/local/lib/python3.8/dist-packages/matplotlib/axes/_axes.py?line=723'>724</a>\u001b[0m \u001b[39mself\u001b[39m\u001b[39m.\u001b[39madd_line(l)\n\u001b[1;32m    <a href='file:///usr/local/lib/python3.8/dist-packages/matplotlib/axes/_axes.py?line=724'>725</a>\u001b[0m \u001b[39mself\u001b[39m\u001b[39m.\u001b[39m_request_autoscale_view(scalex\u001b[39m=\u001b[39m\u001b[39mFalse\u001b[39;00m, scaley\u001b[39m=\u001b[39mscaley)\n",
      "File \u001b[0;32m/usr/local/lib/python3.8/dist-packages/matplotlib/lines.py:397\u001b[0m, in \u001b[0;36mLine2D.__init__\u001b[0;34m(self, xdata, ydata, linewidth, linestyle, color, marker, markersize, markeredgewidth, markeredgecolor, markerfacecolor, markerfacecoloralt, fillstyle, antialiased, dash_capstyle, solid_capstyle, dash_joinstyle, solid_joinstyle, pickradius, drawstyle, markevery, **kwargs)\u001b[0m\n\u001b[1;32m    <a href='file:///usr/local/lib/python3.8/dist-packages/matplotlib/lines.py?line=392'>393</a>\u001b[0m \u001b[39mself\u001b[39m\u001b[39m.\u001b[39mset_markeredgewidth(markeredgewidth)\n\u001b[1;32m    <a href='file:///usr/local/lib/python3.8/dist-packages/matplotlib/lines.py?line=394'>395</a>\u001b[0m \u001b[39m# update kwargs before updating data to give the caller a\u001b[39;00m\n\u001b[1;32m    <a href='file:///usr/local/lib/python3.8/dist-packages/matplotlib/lines.py?line=395'>396</a>\u001b[0m \u001b[39m# chance to init axes (and hence unit support)\u001b[39;00m\n\u001b[0;32m--> <a href='file:///usr/local/lib/python3.8/dist-packages/matplotlib/lines.py?line=396'>397</a>\u001b[0m \u001b[39mself\u001b[39;49m\u001b[39m.\u001b[39;49mupdate(kwargs)\n\u001b[1;32m    <a href='file:///usr/local/lib/python3.8/dist-packages/matplotlib/lines.py?line=397'>398</a>\u001b[0m \u001b[39mself\u001b[39m\u001b[39m.\u001b[39mpickradius \u001b[39m=\u001b[39m pickradius\n\u001b[1;32m    <a href='file:///usr/local/lib/python3.8/dist-packages/matplotlib/lines.py?line=398'>399</a>\u001b[0m \u001b[39mself\u001b[39m\u001b[39m.\u001b[39mind_offset \u001b[39m=\u001b[39m \u001b[39m0\u001b[39m\n",
      "File \u001b[0;32m/usr/local/lib/python3.8/dist-packages/matplotlib/artist.py:1062\u001b[0m, in \u001b[0;36mArtist.update\u001b[0;34m(self, props)\u001b[0m\n\u001b[1;32m   <a href='file:///usr/local/lib/python3.8/dist-packages/matplotlib/artist.py?line=1059'>1060</a>\u001b[0m             func \u001b[39m=\u001b[39m \u001b[39mgetattr\u001b[39m(\u001b[39mself\u001b[39m, \u001b[39mf\u001b[39m\u001b[39m\"\u001b[39m\u001b[39mset_\u001b[39m\u001b[39m{\u001b[39;00mk\u001b[39m}\u001b[39;00m\u001b[39m\"\u001b[39m, \u001b[39mNone\u001b[39;00m)\n\u001b[1;32m   <a href='file:///usr/local/lib/python3.8/dist-packages/matplotlib/artist.py?line=1060'>1061</a>\u001b[0m             \u001b[39mif\u001b[39;00m \u001b[39mnot\u001b[39;00m callable(func):\n\u001b[0;32m-> <a href='file:///usr/local/lib/python3.8/dist-packages/matplotlib/artist.py?line=1061'>1062</a>\u001b[0m                 \u001b[39mraise\u001b[39;00m \u001b[39mAttributeError\u001b[39;00m(\u001b[39mf\u001b[39m\u001b[39m\"\u001b[39m\u001b[39m{\u001b[39;00m\u001b[39mtype\u001b[39m(\u001b[39mself\u001b[39m)\u001b[39m.\u001b[39m\u001b[39m__name__\u001b[39m\u001b[39m!r}\u001b[39;00m\u001b[39m object \u001b[39m\u001b[39m\"\u001b[39m\n\u001b[1;32m   <a href='file:///usr/local/lib/python3.8/dist-packages/matplotlib/artist.py?line=1062'>1063</a>\u001b[0m                                      \u001b[39mf\u001b[39m\u001b[39m\"\u001b[39m\u001b[39mhas no property \u001b[39m\u001b[39m{\u001b[39;00mk\u001b[39m!r}\u001b[39;00m\u001b[39m\"\u001b[39m)\n\u001b[1;32m   <a href='file:///usr/local/lib/python3.8/dist-packages/matplotlib/artist.py?line=1063'>1064</a>\u001b[0m             ret\u001b[39m.\u001b[39mappend(func(v))\n\u001b[1;32m   <a href='file:///usr/local/lib/python3.8/dist-packages/matplotlib/artist.py?line=1064'>1065</a>\u001b[0m \u001b[39mif\u001b[39;00m ret:\n",
      "\u001b[0;31mAttributeError\u001b[0m: 'Line2D' object has no property 'x'"
     ]
    },
    {
     "data": {
      "text/plain": [
       "<Figure size 720x720 with 0 Axes>"
      ]
     },
     "metadata": {},
     "output_type": "display_data"
    },
    {
     "data": {
      "image/png": "[encoded data removed]",
      "text/plain": [
       "<Figure size 432x288 with 1 Axes>"
      ]
     },
     "metadata": {
      "needs_background": "light"
     },
     "output_type": "display_data"
    }
   ],
   "source": [
    "plt.figure(figsize = (10, 10))\n",
    "ax = df.hist()\n",
    "ax[0][0].grid('off')\n",
    "ax[0][0].axhline(x=0, ymin=0, ymax=1)"
   ]
  },
  {
   "cell_type": "code",
   "execution_count": 40,
   "metadata": {},
   "outputs": [
    {
     "name": "stdout",
     "output_type": "stream",
     "text": [
      "Object `axhline` not found.\n"
     ]
    }
   ],
   "source": [
    "ax[0][0].axhline?"
   ]
  },
  {
   "cell_type": "code",
   "execution_count": null,
   "metadata": {},
   "outputs": [],
   "source": [
    "ax[0][0].axhline"
   ]
  },
  {
   "cell_type": "code",
   "execution_count": 45,
   "metadata": {},
   "outputs": [
    {
     "data": {
      "text/plain": [
       "array([<AxesSubplot:title={'center':'# of patches'}>], dtype=object)"
      ]
     },
     "execution_count": 45,
     "metadata": {},
     "output_type": "execute_result"
    }
   ],
   "source": [
    "ax[0]"
   ]
  }
 ],
 "metadata": {
  "interpreter": {
   "hash": "767d51c1340bd893661ea55ea3124f6de3c7a262a8b4abca0554b478b1e2ff90"
  },
  "kernelspec": {
   "display_name": "Python 3.8.0 64-bit",
   "language": "python",
   "name": "python3"
  },
  "language_info": {
   "codemirror_mode": {
    "name": "ipython",
    "version": 3
   },
   "file_extension": ".py",
   "mimetype": "text/x-python",
   "name": "python",
   "nbconvert_exporter": "python",
   "pygments_lexer": "ipython3",
   "version": "3.8.0"
  },
  "orig_nbformat": 4
 },
 "nbformat": 4,
 "nbformat_minor": 2
}
