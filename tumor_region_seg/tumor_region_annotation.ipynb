{
 "cells": [
  {
   "cell_type": "code",
   "execution_count": 37,
   "metadata": {},
   "outputs": [],
   "source": [
    "import os \n",
    "import openslide\n",
    "import cv2\n",
    "import numpy as np\n",
    "import time\n",
    "from xml.etree.ElementTree import parse\n",
    "import matplotlib.pyplot as plt\n",
    "\n",
    "NORMAL_COLOR = 0\n",
    "PATTERN3_COLOR = 1\n",
    "PATTERN3_COLOR = (255, 255, 0)\n",
    "PATTERN4_COLOR = 2\n",
    "PATTERN5_COLOR = 3\n",
    "TUMOR_COLOR = 4\n",
    "TUMOR_COLOR = (255, 0, 0)\n",
    "\n",
    "class Annotation:\n",
    "    def __init__(self, slide_path, xml_path, level = -1):\n",
    "\n",
    "        self.slide_path = slide_path\n",
    "        self.xml_path = xml_path\n",
    "        self.level = level\n",
    "\n",
    "        self.slide = openslide.OpenSlide(slide_path)\n",
    "        self.xml = parse(xml_path).getroot()\n",
    "\n",
    "        slide_thumbnail = self.slide.get_thumbnail(self.slide.level_dimensions[self.level])\n",
    "        slide_thumbnail = slide_thumbnail.convert('RGB')\n",
    "        self.slide_thumbnail = np.array(slide_thumbnail)\n",
    "\n",
    "    def get_coordinates(self):\n",
    "\n",
    "        # if slide.level_count < 4:\n",
    "        #     level_index = slide.level_count-1\n",
    "        # else:\n",
    "        #     level_index = 3\n",
    "\n",
    "        slide_mask_ratio = round(self.slide.level_downsamples[self.level])\n",
    "\n",
    "        annotations = []\n",
    "        non_target_annotations = []\n",
    "        patterns = []\n",
    "\n",
    "        for anno in self.xml.iter('Annotation'):\n",
    "            pattern = anno.get('class')\n",
    "            patterns.append(pattern)\n",
    "            annotation = []\n",
    "            for i, coors in enumerate(anno):\n",
    "                if i == 0: \n",
    "                    continue\n",
    "                coordinates = []\n",
    "                for coor in coors:\n",
    "                    # coordinates.append([round(float(coor.get('x'))), round(float(coor.get('y')))])\n",
    "                    coordinates.append([round(float(coor.get('x'))//slide_mask_ratio), round(float(coor.get('y'))//slide_mask_ratio)])\n",
    "                annotation.append(coordinates)\n",
    "            if pattern == 'Pattern5':\n",
    "                annotations.append(annotation)\n",
    "            if pattern == 'Pattern3':\n",
    "                non_target_annotations.append(annotation)\n",
    "\n",
    "        return annotations, non_target_annotations\n",
    "\n",
    "    def make_mask(self, annotations, color = 255):\n",
    "\n",
    "        width, height = self.slide.level_dimensions[self.level]\n",
    "        mask = np.zeros((height, width)).astype(np.uint8)\n",
    "        # mask = np.zeros((height, width, 3)).astype(np.uint8)\n",
    "\n",
    "        for anno in annotations:\n",
    "            _anno = []\n",
    "            for coors in anno:\n",
    "                _anno.append(np.array(coors))\n",
    "            cv2.drawContours(mask, _anno, -1, color, -1)\n",
    "\n",
    "        return mask\n",
    "\n",
    "slide_dir = '/mnt/hdd1/c-MET_datasets/SLIDE_DATA/1차annotation'\n",
    "label_dir = slide_dir + '/annotation' \n",
    "plot_save_dir = slide_dir + '/check'\n",
    "\n",
    "os.makedirs(plot_save_dir, exist_ok = True)\n",
    "\n",
    "slide_list = sorted([svs for svs in os.listdir(slide_dir) if 'svs' in svs])\n",
    "label_list = sorted([xml for xml in os.listdir(label_dir) if 'xml' in xml])"
   ]
  },
  {
   "cell_type": "code",
   "execution_count": 38,
   "metadata": {},
   "outputs": [
    {
     "data": {
      "text/plain": [
       "['S-LC0027-MET.svs',\n",
       " 'S-LC0032-MET.svs',\n",
       " 'S-LC0047-MET.svs',\n",
       " 'S-LC0059-MET.svs',\n",
       " 'S-LC0080-MET.svs',\n",
       " 'S-LC0087-MET.svs',\n",
       " 'S-LC0090-MET.svs',\n",
       " 'S-LC0094-MET.svs',\n",
       " 'S-LC0106-MET.svs',\n",
       " 'S-LC0107-MET.svs']"
      ]
     },
     "execution_count": 38,
     "metadata": {},
     "output_type": "execute_result"
    }
   ],
   "source": [
    "slide_list"
   ]
  },
  {
   "cell_type": "code",
   "execution_count": 39,
   "metadata": {},
   "outputs": [
    {
     "data": {
      "text/plain": [
       "['S-LC0027-MET.xml',\n",
       " 'S-LC0032-MET.xml',\n",
       " 'S-LC0047-MET.xml',\n",
       " 'S-LC0059-MET.xml',\n",
       " 'S-LC0080-MET.xml',\n",
       " 'S-LC0087-MET.xml',\n",
       " 'S-LC0090-MET.xml',\n",
       " 'S-LC0094-MET.xml',\n",
       " 'S-LC0106-MET.xml',\n",
       " 'S-LC0107-MET.xml']"
      ]
     },
     "execution_count": 39,
     "metadata": {},
     "output_type": "execute_result"
    }
   ],
   "source": [
    "label_list"
   ]
  },
  {
   "cell_type": "code",
   "execution_count": 41,
   "metadata": {},
   "outputs": [
    {
     "name": "stdout",
     "output_type": "stream",
     "text": [
      "S-LC0027-MET | slide/mask ratio: 32 | size: (1568, 3237) | time: 3.01 sec\n",
      "S-LC0032-MET | slide/mask ratio: 64 | size: (854, 2116) | time: 1.7 sec\n",
      "S-LC0047-MET | slide/mask ratio: 64 | size: (1019, 2365) | time: 2.58 sec\n",
      "S-LC0059-MET | slide/mask ratio: 32 | size: (2970, 3485) | time: 5.9 sec\n",
      "S-LC0080-MET | slide/mask ratio: 64 | size: (725, 2334) | time: 1.17 sec\n",
      "S-LC0087-MET | slide/mask ratio: 64 | size: (1090, 2365) | time: 2.03 sec\n",
      "S-LC0090-MET | slide/mask ratio: 64 | size: (1306, 2458) | time: 1.97 sec\n",
      "S-LC0094-MET | slide/mask ratio: 64 | size: (1266, 2458) | time: 2.65 sec\n",
      "S-LC0106-MET | slide/mask ratio: 64 | size: (793, 2054) | time: 1.99 sec\n",
      "S-LC0107-MET | slide/mask ratio: 64 | size: (1377, 2365) | time: 2.15 sec\n",
      "total time: 25.15 sec\n"
     ]
    }
   ],
   "source": [
    "total_time = 0\n",
    "for i, (slide_file, anno_file) in enumerate(zip(slide_list, label_list)):\n",
    "    start_time = time.time()\n",
    "    \n",
    "    if slide_file[:-4] != anno_file[:-4]:\n",
    "        print(\"Check the pairness between slide and ROI annotation\")\n",
    "        break\n",
    "    \n",
    "    slide_name = slide_file[:-4]\n",
    " \n",
    "    slide_path = os.path.join(slide_dir, slide_file)\n",
    "    label_path = os.path.join(label_dir, anno_file)\n",
    "\n",
    "    AN = Annotation(slide_path = slide_path, xml_path = label_path, level = -1)\n",
    "    annotations, non_target_annotations = AN.get_coordinates()\n",
    "    tumor_label = AN.make_mask(annotations=annotations, color = 255)\n",
    "\n",
    "    plt.figure(figsize=(30, 20))\n",
    "    plt.imshow(AN.slide_thumbnail)\n",
    "\n",
    "    if len(non_target_annotations) != 0:\n",
    "        non_target_label = AN.make_mask(annotations=non_target_annotations, color = 50)\n",
    "        label = cv2.bitwise_or(tumor_label, non_target_label)\n",
    "        plt.imshow(label, cmap = 'jet', vmax = 255, vmin=0, alpha = 0.3)\n",
    "\n",
    "    else:\n",
    "        plt.imshow(tumor_label, cmap = 'jet', vmax = 255, vmin=0, alpha = 0.3)\n",
    "\n",
    "    plt.savefig(f'{plot_save_dir}/{slide_name}_tumor_anno_overlay.jpg', bbox_inches = 'tight')\n",
    "    plt.close()\n",
    "    \n",
    "    end_time = time.time()\n",
    "    taken = end_time - start_time\n",
    "    print(f'{slide_name} | slide/mask ratio: {int(AN.slide.level_downsamples[-1])} | size: {tumor_label.shape} | time: {round(taken, 2)} sec')\n",
    "    total_time += taken\n",
    "    \n",
    "print(f'total time: {round(total_time, 2)} sec')"
   ]
  },
  {
   "cell_type": "code",
   "execution_count": 47,
   "metadata": {},
   "outputs": [
    {
     "data": {
      "text/plain": [
       "True"
      ]
     },
     "execution_count": 47,
     "metadata": {},
     "output_type": "execute_result"
    }
   ],
   "source": [
    "os.path.isdir('/mnt/hdd1/c-MET_datasets/SLIDE_DATA/1차annotation/annotation')"
   ]
  },
  {
   "cell_type": "markdown",
   "metadata": {},
   "source": [
    "level = 0 은 너무 오래걸림 \n",
    "\n",
    "추정 slide/mask ratio의 제곱만큼 더 걸린다면 \n",
    "\n",
    "ex) S-LC0106-MET, level 3에서 약 2 초 소요\n",
    "\n",
    "- level 0: 2 sec * (64)**2  = 8192 sec = 136.5 min = 2 h 16 min..... \n",
    "- level 1: 2 sec * (16)**2  = 512 sec = 8.5 min\n",
    "- level 1: 2 sec * (8)**2  = 128 sec = 2 min\n",
    "- level 2: 2 sec * (2)**2 = 8 sec\n"
   ]
  },
  {
   "cell_type": "code",
   "execution_count": 62,
   "metadata": {},
   "outputs": [
    {
     "data": {
      "text/plain": [
       "2.1333333333333333"
      ]
     },
     "execution_count": 62,
     "metadata": {},
     "output_type": "execute_result"
    }
   ],
   "source": [
    "64*2/60"
   ]
  },
  {
   "cell_type": "code",
   "execution_count": 12,
   "metadata": {},
   "outputs": [
    {
     "ename": "KeyboardInterrupt",
     "evalue": "",
     "output_type": "error",
     "traceback": [
      "\u001b[0;31m---------------------------------------------------------------------------\u001b[0m",
      "\u001b[0;31mKeyboardInterrupt\u001b[0m                         Traceback (most recent call last)",
      "\u001b[1;32m/home/yshwang/c-MET/c-met_yellofi/tumor_region_seg/tumor_region_annotation.ipynb Cell 5'\u001b[0m in \u001b[0;36m<cell line: 2>\u001b[0;34m()\u001b[0m\n\u001b[1;32m     <a href='vscode-notebook-cell://ssh-remote%2B192.168.0.38/home/yshwang/c-MET/c-met_yellofi/tumor_region_seg/tumor_region_annotation.ipynb#ch0000008vscode-remote?line=21'>22</a>\u001b[0m     _, non_target_label \u001b[39m=\u001b[39m SH\u001b[39m.\u001b[39mmake_mask(annotations\u001b[39m=\u001b[39mnon_target_annotations, color \u001b[39m=\u001b[39m PATTERN3_COLOR, level \u001b[39m=\u001b[39m \u001b[39m0\u001b[39m)\n\u001b[1;32m     <a href='vscode-notebook-cell://ssh-remote%2B192.168.0.38/home/yshwang/c-MET/c-met_yellofi/tumor_region_seg/tumor_region_annotation.ipynb#ch0000008vscode-remote?line=22'>23</a>\u001b[0m     plt\u001b[39m.\u001b[39mimshow(non_target_label, alpha \u001b[39m=\u001b[39m \u001b[39m0.3\u001b[39m)\n\u001b[0;32m---> <a href='vscode-notebook-cell://ssh-remote%2B192.168.0.38/home/yshwang/c-MET/c-met_yellofi/tumor_region_seg/tumor_region_annotation.ipynb#ch0000008vscode-remote?line=24'>25</a>\u001b[0m plt\u001b[39m.\u001b[39;49msavefig(\u001b[39mf\u001b[39;49m\u001b[39m'\u001b[39;49m\u001b[39m{\u001b[39;49;00mplot_save_dir\u001b[39m}\u001b[39;49;00m\u001b[39m/\u001b[39;49m\u001b[39m{\u001b[39;49;00mslide_name\u001b[39m}\u001b[39;49;00m\u001b[39m_tumor_anno_overlay_level_0.jpg\u001b[39;49m\u001b[39m'\u001b[39;49m, bbox_inches \u001b[39m=\u001b[39;49m \u001b[39m'\u001b[39;49m\u001b[39mtight\u001b[39;49m\u001b[39m'\u001b[39;49m)\n\u001b[1;32m     <a href='vscode-notebook-cell://ssh-remote%2B192.168.0.38/home/yshwang/c-MET/c-met_yellofi/tumor_region_seg/tumor_region_annotation.ipynb#ch0000008vscode-remote?line=25'>26</a>\u001b[0m plt\u001b[39m.\u001b[39mclose()\n\u001b[1;32m     <a href='vscode-notebook-cell://ssh-remote%2B192.168.0.38/home/yshwang/c-MET/c-met_yellofi/tumor_region_seg/tumor_region_annotation.ipynb#ch0000008vscode-remote?line=27'>28</a>\u001b[0m end_time \u001b[39m=\u001b[39m time\u001b[39m.\u001b[39mtime()\n",
      "File \u001b[0;32m/usr/local/lib/python3.8/dist-packages/matplotlib/pyplot.py:966\u001b[0m, in \u001b[0;36msavefig\u001b[0;34m(*args, **kwargs)\u001b[0m\n\u001b[1;32m    <a href='file:///usr/local/lib/python3.8/dist-packages/matplotlib/pyplot.py?line=962'>963</a>\u001b[0m \u001b[39m@_copy_docstring_and_deprecators\u001b[39m(Figure\u001b[39m.\u001b[39msavefig)\n\u001b[1;32m    <a href='file:///usr/local/lib/python3.8/dist-packages/matplotlib/pyplot.py?line=963'>964</a>\u001b[0m \u001b[39mdef\u001b[39;00m \u001b[39msavefig\u001b[39m(\u001b[39m*\u001b[39margs, \u001b[39m*\u001b[39m\u001b[39m*\u001b[39mkwargs):\n\u001b[1;32m    <a href='file:///usr/local/lib/python3.8/dist-packages/matplotlib/pyplot.py?line=964'>965</a>\u001b[0m     fig \u001b[39m=\u001b[39m gcf()\n\u001b[0;32m--> <a href='file:///usr/local/lib/python3.8/dist-packages/matplotlib/pyplot.py?line=965'>966</a>\u001b[0m     res \u001b[39m=\u001b[39m fig\u001b[39m.\u001b[39;49msavefig(\u001b[39m*\u001b[39;49margs, \u001b[39m*\u001b[39;49m\u001b[39m*\u001b[39;49mkwargs)\n\u001b[1;32m    <a href='file:///usr/local/lib/python3.8/dist-packages/matplotlib/pyplot.py?line=966'>967</a>\u001b[0m     fig\u001b[39m.\u001b[39mcanvas\u001b[39m.\u001b[39mdraw_idle()   \u001b[39m# need this if 'transparent=True' to reset colors\u001b[39;00m\n\u001b[1;32m    <a href='file:///usr/local/lib/python3.8/dist-packages/matplotlib/pyplot.py?line=967'>968</a>\u001b[0m     \u001b[39mreturn\u001b[39;00m res\n",
      "File \u001b[0;32m/usr/local/lib/python3.8/dist-packages/matplotlib/figure.py:3005\u001b[0m, in \u001b[0;36mFigure.savefig\u001b[0;34m(self, fname, transparent, **kwargs)\u001b[0m\n\u001b[1;32m   <a href='file:///usr/local/lib/python3.8/dist-packages/matplotlib/figure.py?line=3001'>3002</a>\u001b[0m         patch\u001b[39m.\u001b[39mset_facecolor(\u001b[39m'\u001b[39m\u001b[39mnone\u001b[39m\u001b[39m'\u001b[39m)\n\u001b[1;32m   <a href='file:///usr/local/lib/python3.8/dist-packages/matplotlib/figure.py?line=3002'>3003</a>\u001b[0m         patch\u001b[39m.\u001b[39mset_edgecolor(\u001b[39m'\u001b[39m\u001b[39mnone\u001b[39m\u001b[39m'\u001b[39m)\n\u001b[0;32m-> <a href='file:///usr/local/lib/python3.8/dist-packages/matplotlib/figure.py?line=3004'>3005</a>\u001b[0m \u001b[39mself\u001b[39;49m\u001b[39m.\u001b[39;49mcanvas\u001b[39m.\u001b[39;49mprint_figure(fname, \u001b[39m*\u001b[39;49m\u001b[39m*\u001b[39;49mkwargs)\n\u001b[1;32m   <a href='file:///usr/local/lib/python3.8/dist-packages/matplotlib/figure.py?line=3006'>3007</a>\u001b[0m \u001b[39mif\u001b[39;00m transparent:\n\u001b[1;32m   <a href='file:///usr/local/lib/python3.8/dist-packages/matplotlib/figure.py?line=3007'>3008</a>\u001b[0m     \u001b[39mfor\u001b[39;00m ax, cc \u001b[39min\u001b[39;00m \u001b[39mzip\u001b[39m(\u001b[39mself\u001b[39m\u001b[39m.\u001b[39maxes, original_axes_colors):\n",
      "File \u001b[0;32m/usr/local/lib/python3.8/dist-packages/matplotlib/backend_bases.py:2230\u001b[0m, in \u001b[0;36mFigureCanvasBase.print_figure\u001b[0;34m(self, filename, dpi, facecolor, edgecolor, orientation, format, bbox_inches, pad_inches, bbox_extra_artists, backend, **kwargs)\u001b[0m\n\u001b[1;32m   <a href='file:///usr/local/lib/python3.8/dist-packages/matplotlib/backend_bases.py?line=2225'>2226</a>\u001b[0m     ctx \u001b[39m=\u001b[39m (renderer\u001b[39m.\u001b[39m_draw_disabled()\n\u001b[1;32m   <a href='file:///usr/local/lib/python3.8/dist-packages/matplotlib/backend_bases.py?line=2226'>2227</a>\u001b[0m            \u001b[39mif\u001b[39;00m \u001b[39mhasattr\u001b[39m(renderer, \u001b[39m'\u001b[39m\u001b[39m_draw_disabled\u001b[39m\u001b[39m'\u001b[39m)\n\u001b[1;32m   <a href='file:///usr/local/lib/python3.8/dist-packages/matplotlib/backend_bases.py?line=2227'>2228</a>\u001b[0m            \u001b[39melse\u001b[39;00m suppress())\n\u001b[1;32m   <a href='file:///usr/local/lib/python3.8/dist-packages/matplotlib/backend_bases.py?line=2228'>2229</a>\u001b[0m     \u001b[39mwith\u001b[39;00m ctx:\n\u001b[0;32m-> <a href='file:///usr/local/lib/python3.8/dist-packages/matplotlib/backend_bases.py?line=2229'>2230</a>\u001b[0m         \u001b[39mself\u001b[39;49m\u001b[39m.\u001b[39;49mfigure\u001b[39m.\u001b[39;49mdraw(renderer)\n\u001b[1;32m   <a href='file:///usr/local/lib/python3.8/dist-packages/matplotlib/backend_bases.py?line=2231'>2232</a>\u001b[0m \u001b[39mif\u001b[39;00m bbox_inches:\n\u001b[1;32m   <a href='file:///usr/local/lib/python3.8/dist-packages/matplotlib/backend_bases.py?line=2232'>2233</a>\u001b[0m     \u001b[39mif\u001b[39;00m bbox_inches \u001b[39m==\u001b[39m \u001b[39m\"\u001b[39m\u001b[39mtight\u001b[39m\u001b[39m\"\u001b[39m:\n",
      "File \u001b[0;32m/usr/local/lib/python3.8/dist-packages/matplotlib/artist.py:74\u001b[0m, in \u001b[0;36m_finalize_rasterization.<locals>.draw_wrapper\u001b[0;34m(artist, renderer, *args, **kwargs)\u001b[0m\n\u001b[1;32m     <a href='file:///usr/local/lib/python3.8/dist-packages/matplotlib/artist.py?line=71'>72</a>\u001b[0m \u001b[39m@wraps\u001b[39m(draw)\n\u001b[1;32m     <a href='file:///usr/local/lib/python3.8/dist-packages/matplotlib/artist.py?line=72'>73</a>\u001b[0m \u001b[39mdef\u001b[39;00m \u001b[39mdraw_wrapper\u001b[39m(artist, renderer, \u001b[39m*\u001b[39margs, \u001b[39m*\u001b[39m\u001b[39m*\u001b[39mkwargs):\n\u001b[0;32m---> <a href='file:///usr/local/lib/python3.8/dist-packages/matplotlib/artist.py?line=73'>74</a>\u001b[0m     result \u001b[39m=\u001b[39m draw(artist, renderer, \u001b[39m*\u001b[39;49margs, \u001b[39m*\u001b[39;49m\u001b[39m*\u001b[39;49mkwargs)\n\u001b[1;32m     <a href='file:///usr/local/lib/python3.8/dist-packages/matplotlib/artist.py?line=74'>75</a>\u001b[0m     \u001b[39mif\u001b[39;00m renderer\u001b[39m.\u001b[39m_rasterizing:\n\u001b[1;32m     <a href='file:///usr/local/lib/python3.8/dist-packages/matplotlib/artist.py?line=75'>76</a>\u001b[0m         renderer\u001b[39m.\u001b[39mstop_rasterizing()\n",
      "File \u001b[0;32m/usr/local/lib/python3.8/dist-packages/matplotlib/artist.py:51\u001b[0m, in \u001b[0;36mallow_rasterization.<locals>.draw_wrapper\u001b[0;34m(artist, renderer, *args, **kwargs)\u001b[0m\n\u001b[1;32m     <a href='file:///usr/local/lib/python3.8/dist-packages/matplotlib/artist.py?line=47'>48</a>\u001b[0m     \u001b[39mif\u001b[39;00m artist\u001b[39m.\u001b[39mget_agg_filter() \u001b[39mis\u001b[39;00m \u001b[39mnot\u001b[39;00m \u001b[39mNone\u001b[39;00m:\n\u001b[1;32m     <a href='file:///usr/local/lib/python3.8/dist-packages/matplotlib/artist.py?line=48'>49</a>\u001b[0m         renderer\u001b[39m.\u001b[39mstart_filter()\n\u001b[0;32m---> <a href='file:///usr/local/lib/python3.8/dist-packages/matplotlib/artist.py?line=50'>51</a>\u001b[0m     \u001b[39mreturn\u001b[39;00m draw(artist, renderer, \u001b[39m*\u001b[39;49margs, \u001b[39m*\u001b[39;49m\u001b[39m*\u001b[39;49mkwargs)\n\u001b[1;32m     <a href='file:///usr/local/lib/python3.8/dist-packages/matplotlib/artist.py?line=51'>52</a>\u001b[0m \u001b[39mfinally\u001b[39;00m:\n\u001b[1;32m     <a href='file:///usr/local/lib/python3.8/dist-packages/matplotlib/artist.py?line=52'>53</a>\u001b[0m     \u001b[39mif\u001b[39;00m artist\u001b[39m.\u001b[39mget_agg_filter() \u001b[39mis\u001b[39;00m \u001b[39mnot\u001b[39;00m \u001b[39mNone\u001b[39;00m:\n",
      "File \u001b[0;32m/usr/local/lib/python3.8/dist-packages/matplotlib/figure.py:2780\u001b[0m, in \u001b[0;36mFigure.draw\u001b[0;34m(self, renderer)\u001b[0m\n\u001b[1;32m   <a href='file:///usr/local/lib/python3.8/dist-packages/matplotlib/figure.py?line=2776'>2777</a>\u001b[0m         \u001b[39m# ValueError can occur when resizing a window.\u001b[39;00m\n\u001b[1;32m   <a href='file:///usr/local/lib/python3.8/dist-packages/matplotlib/figure.py?line=2778'>2779</a>\u001b[0m \u001b[39mself\u001b[39m\u001b[39m.\u001b[39mpatch\u001b[39m.\u001b[39mdraw(renderer)\n\u001b[0;32m-> <a href='file:///usr/local/lib/python3.8/dist-packages/matplotlib/figure.py?line=2779'>2780</a>\u001b[0m mimage\u001b[39m.\u001b[39;49m_draw_list_compositing_images(\n\u001b[1;32m   <a href='file:///usr/local/lib/python3.8/dist-packages/matplotlib/figure.py?line=2780'>2781</a>\u001b[0m     renderer, \u001b[39mself\u001b[39;49m, artists, \u001b[39mself\u001b[39;49m\u001b[39m.\u001b[39;49msuppressComposite)\n\u001b[1;32m   <a href='file:///usr/local/lib/python3.8/dist-packages/matplotlib/figure.py?line=2782'>2783</a>\u001b[0m \u001b[39mfor\u001b[39;00m sfig \u001b[39min\u001b[39;00m \u001b[39mself\u001b[39m\u001b[39m.\u001b[39msubfigs:\n\u001b[1;32m   <a href='file:///usr/local/lib/python3.8/dist-packages/matplotlib/figure.py?line=2783'>2784</a>\u001b[0m     sfig\u001b[39m.\u001b[39mdraw(renderer)\n",
      "File \u001b[0;32m/usr/local/lib/python3.8/dist-packages/matplotlib/image.py:132\u001b[0m, in \u001b[0;36m_draw_list_compositing_images\u001b[0;34m(renderer, parent, artists, suppress_composite)\u001b[0m\n\u001b[1;32m    <a href='file:///usr/local/lib/python3.8/dist-packages/matplotlib/image.py?line=129'>130</a>\u001b[0m \u001b[39mif\u001b[39;00m not_composite \u001b[39mor\u001b[39;00m \u001b[39mnot\u001b[39;00m has_images:\n\u001b[1;32m    <a href='file:///usr/local/lib/python3.8/dist-packages/matplotlib/image.py?line=130'>131</a>\u001b[0m     \u001b[39mfor\u001b[39;00m a \u001b[39min\u001b[39;00m artists:\n\u001b[0;32m--> <a href='file:///usr/local/lib/python3.8/dist-packages/matplotlib/image.py?line=131'>132</a>\u001b[0m         a\u001b[39m.\u001b[39;49mdraw(renderer)\n\u001b[1;32m    <a href='file:///usr/local/lib/python3.8/dist-packages/matplotlib/image.py?line=132'>133</a>\u001b[0m \u001b[39melse\u001b[39;00m:\n\u001b[1;32m    <a href='file:///usr/local/lib/python3.8/dist-packages/matplotlib/image.py?line=133'>134</a>\u001b[0m     \u001b[39m# Composite any adjacent images together\u001b[39;00m\n\u001b[1;32m    <a href='file:///usr/local/lib/python3.8/dist-packages/matplotlib/image.py?line=134'>135</a>\u001b[0m     image_group \u001b[39m=\u001b[39m []\n",
      "File \u001b[0;32m/usr/local/lib/python3.8/dist-packages/matplotlib/artist.py:51\u001b[0m, in \u001b[0;36mallow_rasterization.<locals>.draw_wrapper\u001b[0;34m(artist, renderer, *args, **kwargs)\u001b[0m\n\u001b[1;32m     <a href='file:///usr/local/lib/python3.8/dist-packages/matplotlib/artist.py?line=47'>48</a>\u001b[0m     \u001b[39mif\u001b[39;00m artist\u001b[39m.\u001b[39mget_agg_filter() \u001b[39mis\u001b[39;00m \u001b[39mnot\u001b[39;00m \u001b[39mNone\u001b[39;00m:\n\u001b[1;32m     <a href='file:///usr/local/lib/python3.8/dist-packages/matplotlib/artist.py?line=48'>49</a>\u001b[0m         renderer\u001b[39m.\u001b[39mstart_filter()\n\u001b[0;32m---> <a href='file:///usr/local/lib/python3.8/dist-packages/matplotlib/artist.py?line=50'>51</a>\u001b[0m     \u001b[39mreturn\u001b[39;00m draw(artist, renderer, \u001b[39m*\u001b[39;49margs, \u001b[39m*\u001b[39;49m\u001b[39m*\u001b[39;49mkwargs)\n\u001b[1;32m     <a href='file:///usr/local/lib/python3.8/dist-packages/matplotlib/artist.py?line=51'>52</a>\u001b[0m \u001b[39mfinally\u001b[39;00m:\n\u001b[1;32m     <a href='file:///usr/local/lib/python3.8/dist-packages/matplotlib/artist.py?line=52'>53</a>\u001b[0m     \u001b[39mif\u001b[39;00m artist\u001b[39m.\u001b[39mget_agg_filter() \u001b[39mis\u001b[39;00m \u001b[39mnot\u001b[39;00m \u001b[39mNone\u001b[39;00m:\n",
      "File \u001b[0;32m/usr/local/lib/python3.8/dist-packages/matplotlib/_api/deprecation.py:431\u001b[0m, in \u001b[0;36mdelete_parameter.<locals>.wrapper\u001b[0;34m(*inner_args, **inner_kwargs)\u001b[0m\n\u001b[1;32m    <a href='file:///usr/local/lib/python3.8/dist-packages/matplotlib/_api/deprecation.py?line=420'>421</a>\u001b[0m     deprecation_addendum \u001b[39m=\u001b[39m (\n\u001b[1;32m    <a href='file:///usr/local/lib/python3.8/dist-packages/matplotlib/_api/deprecation.py?line=421'>422</a>\u001b[0m         \u001b[39mf\u001b[39m\u001b[39m\"\u001b[39m\u001b[39mIf any parameter follows \u001b[39m\u001b[39m{\u001b[39;00mname\u001b[39m!r}\u001b[39;00m\u001b[39m, they should be passed as \u001b[39m\u001b[39m\"\u001b[39m\n\u001b[1;32m    <a href='file:///usr/local/lib/python3.8/dist-packages/matplotlib/_api/deprecation.py?line=422'>423</a>\u001b[0m         \u001b[39mf\u001b[39m\u001b[39m\"\u001b[39m\u001b[39mkeyword, not positionally.\u001b[39m\u001b[39m\"\u001b[39m)\n\u001b[1;32m    <a href='file:///usr/local/lib/python3.8/dist-packages/matplotlib/_api/deprecation.py?line=423'>424</a>\u001b[0m     warn_deprecated(\n\u001b[1;32m    <a href='file:///usr/local/lib/python3.8/dist-packages/matplotlib/_api/deprecation.py?line=424'>425</a>\u001b[0m         since,\n\u001b[1;32m    <a href='file:///usr/local/lib/python3.8/dist-packages/matplotlib/_api/deprecation.py?line=425'>426</a>\u001b[0m         name\u001b[39m=\u001b[39m\u001b[39mrepr\u001b[39m(name),\n\u001b[0;32m   (...)\u001b[0m\n\u001b[1;32m    <a href='file:///usr/local/lib/python3.8/dist-packages/matplotlib/_api/deprecation.py?line=428'>429</a>\u001b[0m                  \u001b[39melse\u001b[39;00m deprecation_addendum,\n\u001b[1;32m    <a href='file:///usr/local/lib/python3.8/dist-packages/matplotlib/_api/deprecation.py?line=429'>430</a>\u001b[0m         \u001b[39m*\u001b[39m\u001b[39m*\u001b[39mkwargs)\n\u001b[0;32m--> <a href='file:///usr/local/lib/python3.8/dist-packages/matplotlib/_api/deprecation.py?line=430'>431</a>\u001b[0m \u001b[39mreturn\u001b[39;00m func(\u001b[39m*\u001b[39;49minner_args, \u001b[39m*\u001b[39;49m\u001b[39m*\u001b[39;49minner_kwargs)\n",
      "File \u001b[0;32m/usr/local/lib/python3.8/dist-packages/matplotlib/axes/_base.py:2921\u001b[0m, in \u001b[0;36m_AxesBase.draw\u001b[0;34m(self, renderer, inframe)\u001b[0m\n\u001b[1;32m   <a href='file:///usr/local/lib/python3.8/dist-packages/matplotlib/axes/_base.py?line=2917'>2918</a>\u001b[0m         a\u001b[39m.\u001b[39mdraw(renderer)\n\u001b[1;32m   <a href='file:///usr/local/lib/python3.8/dist-packages/matplotlib/axes/_base.py?line=2918'>2919</a>\u001b[0m     renderer\u001b[39m.\u001b[39mstop_rasterizing()\n\u001b[0;32m-> <a href='file:///usr/local/lib/python3.8/dist-packages/matplotlib/axes/_base.py?line=2920'>2921</a>\u001b[0m mimage\u001b[39m.\u001b[39;49m_draw_list_compositing_images(renderer, \u001b[39mself\u001b[39;49m, artists)\n\u001b[1;32m   <a href='file:///usr/local/lib/python3.8/dist-packages/matplotlib/axes/_base.py?line=2922'>2923</a>\u001b[0m renderer\u001b[39m.\u001b[39mclose_group(\u001b[39m'\u001b[39m\u001b[39maxes\u001b[39m\u001b[39m'\u001b[39m)\n\u001b[1;32m   <a href='file:///usr/local/lib/python3.8/dist-packages/matplotlib/axes/_base.py?line=2923'>2924</a>\u001b[0m \u001b[39mself\u001b[39m\u001b[39m.\u001b[39mstale \u001b[39m=\u001b[39m \u001b[39mFalse\u001b[39;00m\n",
      "File \u001b[0;32m/usr/local/lib/python3.8/dist-packages/matplotlib/image.py:132\u001b[0m, in \u001b[0;36m_draw_list_compositing_images\u001b[0;34m(renderer, parent, artists, suppress_composite)\u001b[0m\n\u001b[1;32m    <a href='file:///usr/local/lib/python3.8/dist-packages/matplotlib/image.py?line=129'>130</a>\u001b[0m \u001b[39mif\u001b[39;00m not_composite \u001b[39mor\u001b[39;00m \u001b[39mnot\u001b[39;00m has_images:\n\u001b[1;32m    <a href='file:///usr/local/lib/python3.8/dist-packages/matplotlib/image.py?line=130'>131</a>\u001b[0m     \u001b[39mfor\u001b[39;00m a \u001b[39min\u001b[39;00m artists:\n\u001b[0;32m--> <a href='file:///usr/local/lib/python3.8/dist-packages/matplotlib/image.py?line=131'>132</a>\u001b[0m         a\u001b[39m.\u001b[39;49mdraw(renderer)\n\u001b[1;32m    <a href='file:///usr/local/lib/python3.8/dist-packages/matplotlib/image.py?line=132'>133</a>\u001b[0m \u001b[39melse\u001b[39;00m:\n\u001b[1;32m    <a href='file:///usr/local/lib/python3.8/dist-packages/matplotlib/image.py?line=133'>134</a>\u001b[0m     \u001b[39m# Composite any adjacent images together\u001b[39;00m\n\u001b[1;32m    <a href='file:///usr/local/lib/python3.8/dist-packages/matplotlib/image.py?line=134'>135</a>\u001b[0m     image_group \u001b[39m=\u001b[39m []\n",
      "File \u001b[0;32m/usr/local/lib/python3.8/dist-packages/matplotlib/artist.py:51\u001b[0m, in \u001b[0;36mallow_rasterization.<locals>.draw_wrapper\u001b[0;34m(artist, renderer, *args, **kwargs)\u001b[0m\n\u001b[1;32m     <a href='file:///usr/local/lib/python3.8/dist-packages/matplotlib/artist.py?line=47'>48</a>\u001b[0m     \u001b[39mif\u001b[39;00m artist\u001b[39m.\u001b[39mget_agg_filter() \u001b[39mis\u001b[39;00m \u001b[39mnot\u001b[39;00m \u001b[39mNone\u001b[39;00m:\n\u001b[1;32m     <a href='file:///usr/local/lib/python3.8/dist-packages/matplotlib/artist.py?line=48'>49</a>\u001b[0m         renderer\u001b[39m.\u001b[39mstart_filter()\n\u001b[0;32m---> <a href='file:///usr/local/lib/python3.8/dist-packages/matplotlib/artist.py?line=50'>51</a>\u001b[0m     \u001b[39mreturn\u001b[39;00m draw(artist, renderer, \u001b[39m*\u001b[39;49margs, \u001b[39m*\u001b[39;49m\u001b[39m*\u001b[39;49mkwargs)\n\u001b[1;32m     <a href='file:///usr/local/lib/python3.8/dist-packages/matplotlib/artist.py?line=51'>52</a>\u001b[0m \u001b[39mfinally\u001b[39;00m:\n\u001b[1;32m     <a href='file:///usr/local/lib/python3.8/dist-packages/matplotlib/artist.py?line=52'>53</a>\u001b[0m     \u001b[39mif\u001b[39;00m artist\u001b[39m.\u001b[39mget_agg_filter() \u001b[39mis\u001b[39;00m \u001b[39mnot\u001b[39;00m \u001b[39mNone\u001b[39;00m:\n",
      "File \u001b[0;32m/usr/local/lib/python3.8/dist-packages/matplotlib/image.py:640\u001b[0m, in \u001b[0;36m_ImageBase.draw\u001b[0;34m(self, renderer, *args, **kwargs)\u001b[0m\n\u001b[1;32m    <a href='file:///usr/local/lib/python3.8/dist-packages/matplotlib/image.py?line=637'>638</a>\u001b[0m         renderer\u001b[39m.\u001b[39mdraw_image(gc, l, b, im, trans)\n\u001b[1;32m    <a href='file:///usr/local/lib/python3.8/dist-packages/matplotlib/image.py?line=638'>639</a>\u001b[0m \u001b[39melse\u001b[39;00m:\n\u001b[0;32m--> <a href='file:///usr/local/lib/python3.8/dist-packages/matplotlib/image.py?line=639'>640</a>\u001b[0m     im, l, b, trans \u001b[39m=\u001b[39m \u001b[39mself\u001b[39;49m\u001b[39m.\u001b[39;49mmake_image(\n\u001b[1;32m    <a href='file:///usr/local/lib/python3.8/dist-packages/matplotlib/image.py?line=640'>641</a>\u001b[0m         renderer, renderer\u001b[39m.\u001b[39;49mget_image_magnification())\n\u001b[1;32m    <a href='file:///usr/local/lib/python3.8/dist-packages/matplotlib/image.py?line=641'>642</a>\u001b[0m     \u001b[39mif\u001b[39;00m im \u001b[39mis\u001b[39;00m \u001b[39mnot\u001b[39;00m \u001b[39mNone\u001b[39;00m:\n\u001b[1;32m    <a href='file:///usr/local/lib/python3.8/dist-packages/matplotlib/image.py?line=642'>643</a>\u001b[0m         renderer\u001b[39m.\u001b[39mdraw_image(gc, l, b, im)\n",
      "File \u001b[0;32m/usr/local/lib/python3.8/dist-packages/matplotlib/image.py:926\u001b[0m, in \u001b[0;36mAxesImage.make_image\u001b[0;34m(self, renderer, magnification, unsampled)\u001b[0m\n\u001b[1;32m    <a href='file:///usr/local/lib/python3.8/dist-packages/matplotlib/image.py?line=922'>923</a>\u001b[0m transformed_bbox \u001b[39m=\u001b[39m TransformedBbox(bbox, trans)\n\u001b[1;32m    <a href='file:///usr/local/lib/python3.8/dist-packages/matplotlib/image.py?line=923'>924</a>\u001b[0m clip \u001b[39m=\u001b[39m ((\u001b[39mself\u001b[39m\u001b[39m.\u001b[39mget_clip_box() \u001b[39mor\u001b[39;00m \u001b[39mself\u001b[39m\u001b[39m.\u001b[39maxes\u001b[39m.\u001b[39mbbox) \u001b[39mif\u001b[39;00m \u001b[39mself\u001b[39m\u001b[39m.\u001b[39mget_clip_on()\n\u001b[1;32m    <a href='file:///usr/local/lib/python3.8/dist-packages/matplotlib/image.py?line=924'>925</a>\u001b[0m         \u001b[39melse\u001b[39;00m \u001b[39mself\u001b[39m\u001b[39m.\u001b[39mfigure\u001b[39m.\u001b[39mbbox)\n\u001b[0;32m--> <a href='file:///usr/local/lib/python3.8/dist-packages/matplotlib/image.py?line=925'>926</a>\u001b[0m \u001b[39mreturn\u001b[39;00m \u001b[39mself\u001b[39;49m\u001b[39m.\u001b[39;49m_make_image(\u001b[39mself\u001b[39;49m\u001b[39m.\u001b[39;49m_A, bbox, transformed_bbox, clip,\n\u001b[1;32m    <a href='file:///usr/local/lib/python3.8/dist-packages/matplotlib/image.py?line=926'>927</a>\u001b[0m                         magnification, unsampled\u001b[39m=\u001b[39;49munsampled)\n",
      "File \u001b[0;32m/usr/local/lib/python3.8/dist-packages/matplotlib/image.py:549\u001b[0m, in \u001b[0;36m_ImageBase._make_image\u001b[0;34m(self, A, in_bbox, out_bbox, clip_bbox, magnification, unsampled, round_to_pixel_border)\u001b[0m\n\u001b[1;32m    <a href='file:///usr/local/lib/python3.8/dist-packages/matplotlib/image.py?line=546'>547</a>\u001b[0m     A \u001b[39m=\u001b[39m _rgb_to_rgba(A)\n\u001b[1;32m    <a href='file:///usr/local/lib/python3.8/dist-packages/matplotlib/image.py?line=547'>548</a>\u001b[0m alpha \u001b[39m=\u001b[39m \u001b[39mself\u001b[39m\u001b[39m.\u001b[39m_get_scalar_alpha()\n\u001b[0;32m--> <a href='file:///usr/local/lib/python3.8/dist-packages/matplotlib/image.py?line=548'>549</a>\u001b[0m output_alpha \u001b[39m=\u001b[39m _resample(  \u001b[39m# resample alpha channel\u001b[39;49;00m\n\u001b[1;32m    <a href='file:///usr/local/lib/python3.8/dist-packages/matplotlib/image.py?line=549'>550</a>\u001b[0m     \u001b[39mself\u001b[39;49m, A[\u001b[39m.\u001b[39;49m\u001b[39m.\u001b[39;49m\u001b[39m.\u001b[39;49m, \u001b[39m3\u001b[39;49m], out_shape, t, alpha\u001b[39m=\u001b[39;49malpha)\n\u001b[1;32m    <a href='file:///usr/local/lib/python3.8/dist-packages/matplotlib/image.py?line=550'>551</a>\u001b[0m output \u001b[39m=\u001b[39m _resample(  \u001b[39m# resample rgb channels\u001b[39;00m\n\u001b[1;32m    <a href='file:///usr/local/lib/python3.8/dist-packages/matplotlib/image.py?line=551'>552</a>\u001b[0m     \u001b[39mself\u001b[39m, _rgb_to_rgba(A[\u001b[39m.\u001b[39m\u001b[39m.\u001b[39m\u001b[39m.\u001b[39m, :\u001b[39m3\u001b[39m]), out_shape, t, alpha\u001b[39m=\u001b[39malpha)\n\u001b[1;32m    <a href='file:///usr/local/lib/python3.8/dist-packages/matplotlib/image.py?line=552'>553</a>\u001b[0m output[\u001b[39m.\u001b[39m\u001b[39m.\u001b[39m\u001b[39m.\u001b[39m, \u001b[39m3\u001b[39m] \u001b[39m=\u001b[39m output_alpha  \u001b[39m# recombine rgb and alpha\u001b[39;00m\n",
      "File \u001b[0;32m/usr/local/lib/python3.8/dist-packages/matplotlib/image.py:193\u001b[0m, in \u001b[0;36m_resample\u001b[0;34m(image_obj, data, out_shape, transform, resample, alpha)\u001b[0m\n\u001b[1;32m    <a href='file:///usr/local/lib/python3.8/dist-packages/matplotlib/image.py?line=190'>191</a>\u001b[0m \u001b[39mif\u001b[39;00m resample \u001b[39mis\u001b[39;00m \u001b[39mNone\u001b[39;00m:\n\u001b[1;32m    <a href='file:///usr/local/lib/python3.8/dist-packages/matplotlib/image.py?line=191'>192</a>\u001b[0m     resample \u001b[39m=\u001b[39m image_obj\u001b[39m.\u001b[39mget_resample()\n\u001b[0;32m--> <a href='file:///usr/local/lib/python3.8/dist-packages/matplotlib/image.py?line=192'>193</a>\u001b[0m _image\u001b[39m.\u001b[39;49mresample(data, out, transform,\n\u001b[1;32m    <a href='file:///usr/local/lib/python3.8/dist-packages/matplotlib/image.py?line=193'>194</a>\u001b[0m                 _interpd_[interpolation],\n\u001b[1;32m    <a href='file:///usr/local/lib/python3.8/dist-packages/matplotlib/image.py?line=194'>195</a>\u001b[0m                 resample,\n\u001b[1;32m    <a href='file:///usr/local/lib/python3.8/dist-packages/matplotlib/image.py?line=195'>196</a>\u001b[0m                 alpha,\n\u001b[1;32m    <a href='file:///usr/local/lib/python3.8/dist-packages/matplotlib/image.py?line=196'>197</a>\u001b[0m                 image_obj\u001b[39m.\u001b[39;49mget_filternorm(),\n\u001b[1;32m    <a href='file:///usr/local/lib/python3.8/dist-packages/matplotlib/image.py?line=197'>198</a>\u001b[0m                 image_obj\u001b[39m.\u001b[39;49mget_filterrad())\n\u001b[1;32m    <a href='file:///usr/local/lib/python3.8/dist-packages/matplotlib/image.py?line=198'>199</a>\u001b[0m \u001b[39mreturn\u001b[39;00m out\n",
      "File \u001b[0;32m/usr/local/lib/python3.8/dist-packages/matplotlib/transforms.py:2369\u001b[0m, in \u001b[0;36mCompositeGenericTransform.<lambda>\u001b[0;34m(self)\u001b[0m\n\u001b[1;32m   <a href='file:///usr/local/lib/python3.8/dist-packages/matplotlib/transforms.py?line=2365'>2366</a>\u001b[0m         \u001b[39myield\u001b[39;00m \u001b[39mself\u001b[39m\u001b[39m.\u001b[39m_a \u001b[39m+\u001b[39m left, right\n\u001b[1;32m   <a href='file:///usr/local/lib/python3.8/dist-packages/matplotlib/transforms.py?line=2367'>2368</a>\u001b[0m depth \u001b[39m=\u001b[39m \u001b[39mproperty\u001b[39m(\u001b[39mlambda\u001b[39;00m \u001b[39mself\u001b[39m: \u001b[39mself\u001b[39m\u001b[39m.\u001b[39m_a\u001b[39m.\u001b[39mdepth \u001b[39m+\u001b[39m \u001b[39mself\u001b[39m\u001b[39m.\u001b[39m_b\u001b[39m.\u001b[39mdepth)\n\u001b[0;32m-> <a href='file:///usr/local/lib/python3.8/dist-packages/matplotlib/transforms.py?line=2368'>2369</a>\u001b[0m is_affine \u001b[39m=\u001b[39m \u001b[39mproperty\u001b[39m(\u001b[39mlambda\u001b[39;00m \u001b[39mself\u001b[39m: \u001b[39mself\u001b[39m\u001b[39m.\u001b[39m_a\u001b[39m.\u001b[39mis_affine \u001b[39mand\u001b[39;00m \u001b[39mself\u001b[39m\u001b[39m.\u001b[39m_b\u001b[39m.\u001b[39mis_affine)\n\u001b[1;32m   <a href='file:///usr/local/lib/python3.8/dist-packages/matplotlib/transforms.py?line=2369'>2370</a>\u001b[0m is_separable \u001b[39m=\u001b[39m \u001b[39mproperty\u001b[39m(\n\u001b[1;32m   <a href='file:///usr/local/lib/python3.8/dist-packages/matplotlib/transforms.py?line=2370'>2371</a>\u001b[0m     \u001b[39mlambda\u001b[39;00m \u001b[39mself\u001b[39m: \u001b[39mself\u001b[39m\u001b[39m.\u001b[39m_a\u001b[39m.\u001b[39mis_separable \u001b[39mand\u001b[39;00m \u001b[39mself\u001b[39m\u001b[39m.\u001b[39m_b\u001b[39m.\u001b[39mis_separable)\n\u001b[1;32m   <a href='file:///usr/local/lib/python3.8/dist-packages/matplotlib/transforms.py?line=2371'>2372</a>\u001b[0m has_inverse \u001b[39m=\u001b[39m \u001b[39mproperty\u001b[39m(\n\u001b[1;32m   <a href='file:///usr/local/lib/python3.8/dist-packages/matplotlib/transforms.py?line=2372'>2373</a>\u001b[0m     \u001b[39mlambda\u001b[39;00m \u001b[39mself\u001b[39m: \u001b[39mself\u001b[39m\u001b[39m.\u001b[39m_a\u001b[39m.\u001b[39mhas_inverse \u001b[39mand\u001b[39;00m \u001b[39mself\u001b[39m\u001b[39m.\u001b[39m_b\u001b[39m.\u001b[39mhas_inverse)\n",
      "\u001b[0;31mKeyboardInterrupt\u001b[0m: "
     ]
    }
   ],
   "source": [
    "total_time = 0\n",
    "for i, (slide_file, anno_file) in enumerate(zip(slide_list, label_list)):\n",
    "    start_time = time.time()\n",
    "    \n",
    "    if slide_file[:-4] != anno_file[:-4]:\n",
    "        print(\"Check the pairness between slide and ROI annotation\")\n",
    "        break\n",
    "    \n",
    "    slide_name = slide_file[:-4]\n",
    "    slide_path = os.path.join(slide_dir, slide_file)\n",
    "    label_path = os.path.join(label_dir, anno_file)\n",
    "\n",
    "    SH = SlideHandler(slide_path = slide_path, xml_path = label_path)\n",
    "    annotations, non_target_annotations = SH.get_coordinates(level = 0)\n",
    "    slide_thumbnail, tumor_label = SH.make_mask(annotations=annotations, color = TUMOR_COLOR, level = 0)\n",
    "    \n",
    "    plt.figure(figsize=(30, 20))\n",
    "    plt.imshow(slide_thumbnail)\n",
    "    plt.imshow(tumor_label, alpha = 0.3)\n",
    "\n",
    "    if len(non_target_annotations) != 0:\n",
    "        _, non_target_label = SH.make_mask(annotations=non_target_annotations, color = PATTERN3_COLOR, level = 0)\n",
    "        plt.imshow(non_target_label, alpha = 0.3)\n",
    "\n",
    "    plt.savefig(f'{plot_save_dir}/{slide_name}_tumor_anno_overlay_level_0.jpg', bbox_inches = 'tight')\n",
    "    plt.close()\n",
    "\n",
    "    end_time = time.time()\n",
    "    taken = end_time - start_time\n",
    "    print(f'{slide_name} | label/mask ratio: {int(SH.slide.level_downsamples[-1])} | size: {tumor_label.shape} | time: {round(taken, 2)} sec')\n",
    "    total_time += taken\n",
    "\n",
    "print(f'total time: {round(total_time, 2)} sec')"
   ]
  },
  {
   "cell_type": "code",
   "execution_count": 4,
   "metadata": {},
   "outputs": [
    {
     "data": {
      "text/plain": [
       "OpenSlide('/mnt/hdd1/c-MET_datasets/SLIDE_DATA/1차annotation/S-LC0027-MET.svs')"
      ]
     },
     "execution_count": 4,
     "metadata": {},
     "output_type": "execute_result"
    }
   ],
   "source": [
    "slide_path = os.path.join(slide_dir, slide_list[0])\n",
    "slide = openslide.OpenSlide(slide_path)\n",
    "\n",
    "slide"
   ]
  },
  {
   "cell_type": "code",
   "execution_count": 12,
   "metadata": {},
   "outputs": [
    {
     "data": {
      "text/plain": [
       "4"
      ]
     },
     "execution_count": 12,
     "metadata": {},
     "output_type": "execute_result"
    }
   ],
   "source": [
    "slide.level_count"
   ]
  },
  {
   "cell_type": "code",
   "execution_count": 5,
   "metadata": {},
   "outputs": [
    {
     "data": {
      "text/plain": [
       "((103584, 50191), (25896, 12547), (6474, 3136), (3237, 1568))"
      ]
     },
     "execution_count": 5,
     "metadata": {},
     "output_type": "execute_result"
    }
   ],
   "source": [
    "slide.level_dimensions"
   ]
  },
  {
   "cell_type": "code",
   "execution_count": 9,
   "metadata": {},
   "outputs": [
    {
     "ename": "AttributeError",
     "evalue": "'numpy.ndarray' object has no attribute 'level_downsamples'",
     "output_type": "error",
     "traceback": [
      "\u001b[0;31m---------------------------------------------------------------------------\u001b[0m",
      "\u001b[0;31mAttributeError\u001b[0m                            Traceback (most recent call last)",
      "\u001b[1;32m/home/yshwang/c-MET/c-met_yellofi/tumor_region_seg/tumor_region_annotation.ipynb Cell 7'\u001b[0m in \u001b[0;36m<cell line: 1>\u001b[0;34m()\u001b[0m\n\u001b[0;32m----> <a href='vscode-notebook-cell://ssh-remote%2B192.168.0.38/home/yshwang/c-MET/c-met_yellofi/tumor_region_seg/tumor_region_annotation.ipynb#ch0000006vscode-remote?line=0'>1</a>\u001b[0m slide\u001b[39m.\u001b[39;49mlevel_downsamples\n",
      "\u001b[0;31mAttributeError\u001b[0m: 'numpy.ndarray' object has no attribute 'level_downsamples'"
     ]
    }
   ],
   "source": [
    "slide.level_downsamples"
   ]
  }
 ],
 "metadata": {
  "interpreter": {
   "hash": "31f2aee4e71d21fbe5cf8b01ff0e069b9275f58929596ceb00d14d90e3e16cd6"
  },
  "kernelspec": {
   "display_name": "Python 3.8.10 64-bit",
   "language": "python",
   "name": "python3"
  },
  "language_info": {
   "codemirror_mode": {
    "name": "ipython",
    "version": 3
   },
   "file_extension": ".py",
   "mimetype": "text/x-python",
   "name": "python",
   "nbconvert_exporter": "python",
   "pygments_lexer": "ipython3",
   "version": "3.8.0"
  },
  "orig_nbformat": 4
 },
 "nbformat": 4,
 "nbformat_minor": 2
}
